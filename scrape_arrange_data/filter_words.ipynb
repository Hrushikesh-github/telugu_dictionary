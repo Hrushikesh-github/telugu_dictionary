{
 "cells": [
  {
   "cell_type": "code",
   "execution_count": 54,
   "metadata": {},
   "outputs": [
    {
     "name": "stdout",
     "output_type": "stream",
     "text": [
      "72211\n"
     ]
    },
    {
     "data": {
      "text/html": [
       "<div>\n",
       "<style scoped>\n",
       "    .dataframe tbody tr th:only-of-type {\n",
       "        vertical-align: middle;\n",
       "    }\n",
       "\n",
       "    .dataframe tbody tr th {\n",
       "        vertical-align: top;\n",
       "    }\n",
       "\n",
       "    .dataframe thead th {\n",
       "        text-align: right;\n",
       "    }\n",
       "</style>\n",
       "<table border=\"1\" class=\"dataframe\">\n",
       "  <thead>\n",
       "    <tr style=\"text-align: right;\">\n",
       "      <th></th>\n",
       "      <th>word</th>\n",
       "    </tr>\n",
       "  </thead>\n",
       "  <tbody>\n",
       "    <tr>\n",
       "      <th>0</th>\n",
       "      <td>అ</td>\n",
       "    </tr>\n",
       "    <tr>\n",
       "      <th>1</th>\n",
       "      <td>అ.సం.రా. చిన్న దూరపు దీవులు</td>\n",
       "    </tr>\n",
       "    <tr>\n",
       "      <th>2</th>\n",
       "      <td>అం టగు</td>\n",
       "    </tr>\n",
       "    <tr>\n",
       "      <th>3</th>\n",
       "      <td>అంక</td>\n",
       "    </tr>\n",
       "    <tr>\n",
       "      <th>4</th>\n",
       "      <td>అంక కాదు</td>\n",
       "    </tr>\n",
       "  </tbody>\n",
       "</table>\n",
       "</div>"
      ],
      "text/plain": [
       "                          word\n",
       "0                            అ\n",
       "1  అ.సం.రా. చిన్న దూరపు దీవులు\n",
       "2                       అం టగు\n",
       "3                          అంక\n",
       "4                     అంక కాదు"
      ]
     },
     "execution_count": 54,
     "metadata": {},
     "output_type": "execute_result"
    }
   ],
   "source": [
    "import pandas as pd\n",
    "df = pd.read_csv('2000_telugu_words.csv')\n",
    "df_new = df.copy()\n",
    "df_new['file_path'] = \"\"\n",
    "df_new['saved'] = False  # You can set the default value to False if needed\n",
    "df_new.to_csv('csv_files/track_word.csv')\n",
    "print(len(df))\n",
    "df.head()"
   ]
  },
  {
   "cell_type": "code",
   "execution_count": 29,
   "metadata": {},
   "outputs": [
    {
     "name": "stdout",
     "output_type": "stream",
     "text": [
      "word    అంక కాదు\n",
      "Name: 4, dtype: object\n"
     ]
    },
    {
     "data": {
      "text/plain": [
       "(1, pandas.core.series.Series)"
      ]
     },
     "execution_count": 29,
     "metadata": {},
     "output_type": "execute_result"
    }
   ],
   "source": [
    "q = df.iloc[4]\n",
    "print(q)\n",
    "len(q), type(q)"
   ]
  },
  {
   "cell_type": "code",
   "execution_count": 47,
   "metadata": {},
   "outputs": [
    {
     "name": "stdout",
     "output_type": "stream",
     "text": [
      "72211 29\n"
     ]
    },
    {
     "data": {
      "text/html": [
       "<div>\n",
       "<style scoped>\n",
       "    .dataframe tbody tr th:only-of-type {\n",
       "        vertical-align: middle;\n",
       "    }\n",
       "\n",
       "    .dataframe tbody tr th {\n",
       "        vertical-align: top;\n",
       "    }\n",
       "\n",
       "    .dataframe thead th {\n",
       "        text-align: right;\n",
       "    }\n",
       "</style>\n",
       "<table border=\"1\" class=\"dataframe\">\n",
       "  <thead>\n",
       "    <tr style=\"text-align: right;\">\n",
       "      <th></th>\n",
       "      <th>word</th>\n",
       "    </tr>\n",
       "  </thead>\n",
       "  <tbody>\n",
       "    <tr>\n",
       "      <th>0</th>\n",
       "      <td>అ</td>\n",
       "    </tr>\n",
       "    <tr>\n",
       "      <th>10761</th>\n",
       "      <td>ఈ</td>\n",
       "    </tr>\n",
       "    <tr>\n",
       "      <th>29550</th>\n",
       "      <td>ఝ</td>\n",
       "    </tr>\n",
       "    <tr>\n",
       "      <th>29827</th>\n",
       "      <td>ఠ</td>\n",
       "    </tr>\n",
       "    <tr>\n",
       "      <th>30213</th>\n",
       "      <td>ణ</td>\n",
       "    </tr>\n",
       "    <tr>\n",
       "      <th>50254</th>\n",
       "      <td>మ</td>\n",
       "    </tr>\n",
       "    <tr>\n",
       "      <th>55720</th>\n",
       "      <td>య</td>\n",
       "    </tr>\n",
       "    <tr>\n",
       "      <th>56302</th>\n",
       "      <td>ర</td>\n",
       "    </tr>\n",
       "    <tr>\n",
       "      <th>58050</th>\n",
       "      <td>ఱ</td>\n",
       "    </tr>\n",
       "    <tr>\n",
       "      <th>58150</th>\n",
       "      <td>ల</td>\n",
       "    </tr>\n",
       "  </tbody>\n",
       "</table>\n",
       "</div>"
      ],
      "text/plain": [
       "      word\n",
       "0        అ\n",
       "10761    ఈ\n",
       "29550    ఝ\n",
       "29827    ఠ\n",
       "30213    ణ\n",
       "50254    మ\n",
       "55720    య\n",
       "56302    ర\n",
       "58050    ఱ\n",
       "58150    ల"
      ]
     },
     "execution_count": 47,
     "metadata": {},
     "output_type": "execute_result"
    }
   ],
   "source": [
    "filtered_df = df[df['word'].str.len() == 1]\n",
    "\n",
    "# Print the filtered DataFrame\n",
    "print(len(df), len(filtered_df))\n",
    "filtered_df.head(10)"
   ]
  },
  {
   "cell_type": "code",
   "execution_count": 32,
   "metadata": {},
   "outputs": [
    {
     "name": "stdout",
     "output_type": "stream",
     "text": [
      "                          word  len\n",
      "0                            అ    1\n",
      "1  అ.సం.రా. చిన్న దూరపు దీవులు   27\n",
      "2                       అం టగు    6\n",
      "3                          అంక    3\n",
      "4                     అంక కాదు    8\n"
     ]
    }
   ],
   "source": [
    "f = df.copy()\n",
    "f['len'] = f['word'].str.len()\n",
    "\n",
    "# Print the DataFrame with the new 'len' column\n",
    "print(f.head())\n"
   ]
  },
  {
   "cell_type": "code",
   "execution_count": 33,
   "metadata": {},
   "outputs": [
    {
     "name": "stdout",
     "output_type": "stream",
     "text": [
      "len\n",
      "8     10317\n",
      "7      9646\n",
      "6      9151\n",
      "9      9002\n",
      "10     7225\n",
      "      ...  \n",
      "69        1\n",
      "56        1\n",
      "78        1\n",
      "80        1\n",
      "59        1\n",
      "Name: count, Length: 81, dtype: int64\n"
     ]
    }
   ],
   "source": [
    "print(f['len'].value_counts(dropna=False))"
   ]
  },
  {
   "cell_type": "code",
   "execution_count": 38,
   "metadata": {},
   "outputs": [
    {
     "data": {
      "text/plain": [
       "word    చొ\n",
       "len      2\n",
       "Name: 27992, dtype: object"
      ]
     },
     "execution_count": 38,
     "metadata": {},
     "output_type": "execute_result"
    }
   ],
   "source": [
    "f.iloc[27992]"
   ]
  },
  {
   "cell_type": "code",
   "execution_count": 41,
   "metadata": {},
   "outputs": [
    {
     "name": "stdout",
     "output_type": "stream",
     "text": [
      "                            word  len\n",
      "1    అ.సం.రా. చిన్న దూరపు దీవులు   27\n",
      "137   అంకెవేసికొను, అంకెవైచికొను   26\n",
      "143            అంగ ప్రాయశ్చిత్తం   17\n",
      "146       అంగ వర్తులత్వ సౌష్ఠవము   22\n",
      "166          అంగట్ల అమ్ముకచ్చుడు   19\n",
      "203          అంగన్యాస కరన్యాసాలు   19\n",
      "290          అంగారకచతుర్ధీవ్రతము   19\n",
      "306    అంగారి, అంగారిక, అంగారిణి   25\n",
      "313           అంగి రైకె పెట్టుడు   18\n",
      "333           అంగుట్లో నాలికలేదు   18\n"
     ]
    }
   ],
   "source": [
    "len(f[f.len > 16])\n",
    "q = f[f.len > 16]\n",
    "print(q.head(10))"
   ]
  },
  {
   "cell_type": "code",
   "execution_count": 42,
   "metadata": {},
   "outputs": [
    {
     "data": {
      "text/plain": [
       "word    అంగుట్లో నాలికలేదు\n",
       "len                     18\n",
       "Name: 333, dtype: object"
      ]
     },
     "execution_count": 42,
     "metadata": {},
     "output_type": "execute_result"
    }
   ],
   "source": [
    "f.iloc[333]"
   ]
  },
  {
   "cell_type": "code",
   "execution_count": 43,
   "metadata": {},
   "outputs": [
    {
     "name": "stdout",
     "output_type": "stream",
     "text": [
      "4047 72211\n"
     ]
    }
   ],
   "source": [
    "filtered_df = f[f['word'].str.contains(' ')]\n",
    "\n",
    "# Print the filtered DataFrame\n",
    "print(len(filtered_df), len(f))\n"
   ]
  },
  {
   "cell_type": "code",
   "execution_count": 46,
   "metadata": {},
   "outputs": [],
   "source": [
    "# non_filtered_df = f[~f['word'].str.contains(' ')]\n",
    "\n",
    "filtered_df = df[df['word'].str.contains(r':|,|\\(|\\d', regex=True)]\n",
    "# Save the filtered DataFrame to a CSV file\n",
    "filtered_df.to_csv('special_words.csv', index=False)\n",
    "\n",
    "# Save the non-filtered DataFrame to a CSV file\n",
    "# non_filtered_df.to_csv('words_with_space.csv', index=False)\n"
   ]
  },
  {
   "cell_type": "code",
   "execution_count": 53,
   "metadata": {},
   "outputs": [
    {
     "name": "stdout",
     "output_type": "stream",
     "text": [
      "Number of rows that will be removed : 1077\n",
      "Filtered DataFrame:\n",
      "             word\n",
      "2          అం టగు\n",
      "3             అంక\n",
      "4        అంక కాదు\n",
      "5      అంక తంత్రం\n",
      "6        అంక తలము\n",
      "...           ...\n",
      "72193       ౙవ్వు\n",
      "72194      ౙీకాద్\n",
      "72195  ౙీన్‌సవారి\n",
      "72199         ౧౦౦\n",
      "72208  ‍‍జ్ఞాపకము\n",
      "\n",
      "[71134 rows x 1 columns]\n"
     ]
    }
   ],
   "source": [
    "# Filter to keep rows that don't meet the criteria\n",
    "filtered_df = df[\n",
    "    ~(df['word'].str.len() == 1) &\n",
    "    ~(df['word'].str.len() > 35) &\n",
    "    ~df['word'].str.contains(r'[{},.\\-:\\'\"/\\(\\[]')\n",
    "]\n",
    "\n",
    "# Calculate the number of rows to be removed\n",
    "num_rows_kept = len(df) - len(filtered_df)\n",
    "\n",
    "# Print the number of rows to be kept\n",
    "print(\"Number of rows that will be removed :\", num_rows_kept)\n",
    "\n",
    "# Print the filtered DataFrame\n",
    "print(\"Filtered DataFrame:\")\n",
    "print(filtered_df)\n"
   ]
  },
  {
   "cell_type": "code",
   "execution_count": 52,
   "metadata": {},
   "outputs": [
    {
     "name": "stdout",
     "output_type": "stream",
     "text": [
      "72211 71134\n"
     ]
    }
   ],
   "source": [
    "print(len(df), len(filtered_df))"
   ]
  },
  {
   "cell_type": "code",
   "execution_count": null,
   "metadata": {},
   "outputs": [],
   "source": [
    "filtered_df.to_csv()"
   ]
  }
 ],
 "metadata": {
  "kernelspec": {
   "display_name": "api",
   "language": "python",
   "name": "python3"
  },
  "language_info": {
   "codemirror_mode": {
    "name": "ipython",
    "version": 3
   },
   "file_extension": ".py",
   "mimetype": "text/x-python",
   "name": "python",
   "nbconvert_exporter": "python",
   "pygments_lexer": "ipython3",
   "version": "3.11.5"
  },
  "orig_nbformat": 4
 },
 "nbformat": 4,
 "nbformat_minor": 2
}
