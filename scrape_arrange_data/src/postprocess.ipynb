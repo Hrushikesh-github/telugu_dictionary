{
 "cells": [
  {
   "cell_type": "code",
   "execution_count": 4,
   "metadata": {},
   "outputs": [
    {
     "name": "stdout",
     "output_type": "stream",
     "text": [
      "స\n",
      "్\n",
      "వ\n",
      "ా\n",
      "జ\n",
      "న\n",
      "్\n",
      "య\n",
      "మ\n",
      "ు\n"
     ]
    },
    {
     "data": {
      "text/plain": [
       "True"
      ]
     },
     "execution_count": 4,
     "metadata": {},
     "output_type": "execute_result"
    }
   ],
   "source": [
    "word = 'స్వాజన్యము'\n",
    "for x in word:\n",
    "    print(x)\n",
    "\n",
    "# word.endswith('ము')\n",
    "word.endswith('ు')"
   ]
  },
  {
   "cell_type": "code",
   "execution_count": 5,
   "metadata": {},
   "outputs": [
    {
     "ename": "EndpointConnectionError",
     "evalue": "Could not connect to the endpoint URL: \"https://dynamodb.us-east-1.amazonaws.com/\"",
     "output_type": "error",
     "traceback": [
      "\u001b[0;31m---------------------------------------------------------------------------\u001b[0m",
      "\u001b[0;31mgaierror\u001b[0m                                  Traceback (most recent call last)",
      "File \u001b[0;32m~/envs/api/lib/python3.11/site-packages/urllib3/connection.py:174\u001b[0m, in \u001b[0;36mHTTPConnection._new_conn\u001b[0;34m(self)\u001b[0m\n\u001b[1;32m    173\u001b[0m \u001b[39mtry\u001b[39;00m:\n\u001b[0;32m--> 174\u001b[0m     conn \u001b[39m=\u001b[39m connection\u001b[39m.\u001b[39;49mcreate_connection(\n\u001b[1;32m    175\u001b[0m         (\u001b[39mself\u001b[39;49m\u001b[39m.\u001b[39;49m_dns_host, \u001b[39mself\u001b[39;49m\u001b[39m.\u001b[39;49mport), \u001b[39mself\u001b[39;49m\u001b[39m.\u001b[39;49mtimeout, \u001b[39m*\u001b[39;49m\u001b[39m*\u001b[39;49mextra_kw\n\u001b[1;32m    176\u001b[0m     )\n\u001b[1;32m    178\u001b[0m \u001b[39mexcept\u001b[39;00m SocketTimeout:\n",
      "File \u001b[0;32m~/envs/api/lib/python3.11/site-packages/urllib3/util/connection.py:72\u001b[0m, in \u001b[0;36mcreate_connection\u001b[0;34m(address, timeout, source_address, socket_options)\u001b[0m\n\u001b[1;32m     68\u001b[0m     \u001b[39mreturn\u001b[39;00m six\u001b[39m.\u001b[39mraise_from(\n\u001b[1;32m     69\u001b[0m         LocationParseError(\u001b[39mu\u001b[39m\u001b[39m\"\u001b[39m\u001b[39m'\u001b[39m\u001b[39m%s\u001b[39;00m\u001b[39m'\u001b[39m\u001b[39m, label empty or too long\u001b[39m\u001b[39m\"\u001b[39m \u001b[39m%\u001b[39m host), \u001b[39mNone\u001b[39;00m\n\u001b[1;32m     70\u001b[0m     )\n\u001b[0;32m---> 72\u001b[0m \u001b[39mfor\u001b[39;00m res \u001b[39min\u001b[39;00m socket\u001b[39m.\u001b[39;49mgetaddrinfo(host, port, family, socket\u001b[39m.\u001b[39;49mSOCK_STREAM):\n\u001b[1;32m     73\u001b[0m     af, socktype, proto, canonname, sa \u001b[39m=\u001b[39m res\n",
      "File \u001b[0;32m/opt/homebrew/Cellar/python@3.11/3.11.5/Frameworks/Python.framework/Versions/3.11/lib/python3.11/socket.py:962\u001b[0m, in \u001b[0;36mgetaddrinfo\u001b[0;34m(host, port, family, type, proto, flags)\u001b[0m\n\u001b[1;32m    961\u001b[0m addrlist \u001b[39m=\u001b[39m []\n\u001b[0;32m--> 962\u001b[0m \u001b[39mfor\u001b[39;00m res \u001b[39min\u001b[39;00m _socket\u001b[39m.\u001b[39;49mgetaddrinfo(host, port, family, \u001b[39mtype\u001b[39;49m, proto, flags):\n\u001b[1;32m    963\u001b[0m     af, socktype, proto, canonname, sa \u001b[39m=\u001b[39m res\n",
      "\u001b[0;31mgaierror\u001b[0m: [Errno 8] nodename nor servname provided, or not known",
      "\nDuring handling of the above exception, another exception occurred:\n",
      "\u001b[0;31mNewConnectionError\u001b[0m                        Traceback (most recent call last)",
      "File \u001b[0;32m~/envs/api/lib/python3.11/site-packages/botocore/httpsession.py:465\u001b[0m, in \u001b[0;36mURLLib3Session.send\u001b[0;34m(self, request)\u001b[0m\n\u001b[1;32m    464\u001b[0m request_target \u001b[39m=\u001b[39m \u001b[39mself\u001b[39m\u001b[39m.\u001b[39m_get_request_target(request\u001b[39m.\u001b[39murl, proxy_url)\n\u001b[0;32m--> 465\u001b[0m urllib_response \u001b[39m=\u001b[39m conn\u001b[39m.\u001b[39;49murlopen(\n\u001b[1;32m    466\u001b[0m     method\u001b[39m=\u001b[39;49mrequest\u001b[39m.\u001b[39;49mmethod,\n\u001b[1;32m    467\u001b[0m     url\u001b[39m=\u001b[39;49mrequest_target,\n\u001b[1;32m    468\u001b[0m     body\u001b[39m=\u001b[39;49mrequest\u001b[39m.\u001b[39;49mbody,\n\u001b[1;32m    469\u001b[0m     headers\u001b[39m=\u001b[39;49mrequest\u001b[39m.\u001b[39;49mheaders,\n\u001b[1;32m    470\u001b[0m     retries\u001b[39m=\u001b[39;49mRetry(\u001b[39mFalse\u001b[39;49;00m),\n\u001b[1;32m    471\u001b[0m     assert_same_host\u001b[39m=\u001b[39;49m\u001b[39mFalse\u001b[39;49;00m,\n\u001b[1;32m    472\u001b[0m     preload_content\u001b[39m=\u001b[39;49m\u001b[39mFalse\u001b[39;49;00m,\n\u001b[1;32m    473\u001b[0m     decode_content\u001b[39m=\u001b[39;49m\u001b[39mFalse\u001b[39;49;00m,\n\u001b[1;32m    474\u001b[0m     chunked\u001b[39m=\u001b[39;49m\u001b[39mself\u001b[39;49m\u001b[39m.\u001b[39;49m_chunked(request\u001b[39m.\u001b[39;49mheaders),\n\u001b[1;32m    475\u001b[0m )\n\u001b[1;32m    477\u001b[0m http_response \u001b[39m=\u001b[39m botocore\u001b[39m.\u001b[39mawsrequest\u001b[39m.\u001b[39mAWSResponse(\n\u001b[1;32m    478\u001b[0m     request\u001b[39m.\u001b[39murl,\n\u001b[1;32m    479\u001b[0m     urllib_response\u001b[39m.\u001b[39mstatus,\n\u001b[1;32m    480\u001b[0m     urllib_response\u001b[39m.\u001b[39mheaders,\n\u001b[1;32m    481\u001b[0m     urllib_response,\n\u001b[1;32m    482\u001b[0m )\n",
      "File \u001b[0;32m~/envs/api/lib/python3.11/site-packages/urllib3/connectionpool.py:798\u001b[0m, in \u001b[0;36mHTTPConnectionPool.urlopen\u001b[0;34m(self, method, url, body, headers, retries, redirect, assert_same_host, timeout, pool_timeout, release_conn, chunked, body_pos, **response_kw)\u001b[0m\n\u001b[1;32m    796\u001b[0m     e \u001b[39m=\u001b[39m ProtocolError(\u001b[39m\"\u001b[39m\u001b[39mConnection aborted.\u001b[39m\u001b[39m\"\u001b[39m, e)\n\u001b[0;32m--> 798\u001b[0m retries \u001b[39m=\u001b[39m retries\u001b[39m.\u001b[39;49mincrement(\n\u001b[1;32m    799\u001b[0m     method, url, error\u001b[39m=\u001b[39;49me, _pool\u001b[39m=\u001b[39;49m\u001b[39mself\u001b[39;49m, _stacktrace\u001b[39m=\u001b[39;49msys\u001b[39m.\u001b[39;49mexc_info()[\u001b[39m2\u001b[39;49m]\n\u001b[1;32m    800\u001b[0m )\n\u001b[1;32m    801\u001b[0m retries\u001b[39m.\u001b[39msleep()\n",
      "File \u001b[0;32m~/envs/api/lib/python3.11/site-packages/urllib3/util/retry.py:525\u001b[0m, in \u001b[0;36mRetry.increment\u001b[0;34m(self, method, url, response, error, _pool, _stacktrace)\u001b[0m\n\u001b[1;32m    523\u001b[0m \u001b[39mif\u001b[39;00m \u001b[39mself\u001b[39m\u001b[39m.\u001b[39mtotal \u001b[39mis\u001b[39;00m \u001b[39mFalse\u001b[39;00m \u001b[39mand\u001b[39;00m error:\n\u001b[1;32m    524\u001b[0m     \u001b[39m# Disabled, indicate to re-raise the error.\u001b[39;00m\n\u001b[0;32m--> 525\u001b[0m     \u001b[39mraise\u001b[39;00m six\u001b[39m.\u001b[39;49mreraise(\u001b[39mtype\u001b[39;49m(error), error, _stacktrace)\n\u001b[1;32m    527\u001b[0m total \u001b[39m=\u001b[39m \u001b[39mself\u001b[39m\u001b[39m.\u001b[39mtotal\n",
      "File \u001b[0;32m~/envs/api/lib/python3.11/site-packages/urllib3/packages/six.py:770\u001b[0m, in \u001b[0;36mreraise\u001b[0;34m(tp, value, tb)\u001b[0m\n\u001b[1;32m    769\u001b[0m         \u001b[39mraise\u001b[39;00m value\u001b[39m.\u001b[39mwith_traceback(tb)\n\u001b[0;32m--> 770\u001b[0m     \u001b[39mraise\u001b[39;00m value\n\u001b[1;32m    771\u001b[0m \u001b[39mfinally\u001b[39;00m:\n",
      "File \u001b[0;32m~/envs/api/lib/python3.11/site-packages/urllib3/connectionpool.py:714\u001b[0m, in \u001b[0;36mHTTPConnectionPool.urlopen\u001b[0;34m(self, method, url, body, headers, retries, redirect, assert_same_host, timeout, pool_timeout, release_conn, chunked, body_pos, **response_kw)\u001b[0m\n\u001b[1;32m    713\u001b[0m \u001b[39m# Make the request on the httplib connection object.\u001b[39;00m\n\u001b[0;32m--> 714\u001b[0m httplib_response \u001b[39m=\u001b[39m \u001b[39mself\u001b[39;49m\u001b[39m.\u001b[39;49m_make_request(\n\u001b[1;32m    715\u001b[0m     conn,\n\u001b[1;32m    716\u001b[0m     method,\n\u001b[1;32m    717\u001b[0m     url,\n\u001b[1;32m    718\u001b[0m     timeout\u001b[39m=\u001b[39;49mtimeout_obj,\n\u001b[1;32m    719\u001b[0m     body\u001b[39m=\u001b[39;49mbody,\n\u001b[1;32m    720\u001b[0m     headers\u001b[39m=\u001b[39;49mheaders,\n\u001b[1;32m    721\u001b[0m     chunked\u001b[39m=\u001b[39;49mchunked,\n\u001b[1;32m    722\u001b[0m )\n\u001b[1;32m    724\u001b[0m \u001b[39m# If we're going to release the connection in ``finally:``, then\u001b[39;00m\n\u001b[1;32m    725\u001b[0m \u001b[39m# the response doesn't need to know about the connection. Otherwise\u001b[39;00m\n\u001b[1;32m    726\u001b[0m \u001b[39m# it will also try to release it and we'll have a double-release\u001b[39;00m\n\u001b[1;32m    727\u001b[0m \u001b[39m# mess.\u001b[39;00m\n",
      "File \u001b[0;32m~/envs/api/lib/python3.11/site-packages/urllib3/connectionpool.py:403\u001b[0m, in \u001b[0;36mHTTPConnectionPool._make_request\u001b[0;34m(self, conn, method, url, timeout, chunked, **httplib_request_kw)\u001b[0m\n\u001b[1;32m    402\u001b[0m \u001b[39mtry\u001b[39;00m:\n\u001b[0;32m--> 403\u001b[0m     \u001b[39mself\u001b[39;49m\u001b[39m.\u001b[39;49m_validate_conn(conn)\n\u001b[1;32m    404\u001b[0m \u001b[39mexcept\u001b[39;00m (SocketTimeout, BaseSSLError) \u001b[39mas\u001b[39;00m e:\n\u001b[1;32m    405\u001b[0m     \u001b[39m# Py2 raises this as a BaseSSLError, Py3 raises it as socket timeout.\u001b[39;00m\n",
      "File \u001b[0;32m~/envs/api/lib/python3.11/site-packages/urllib3/connectionpool.py:1053\u001b[0m, in \u001b[0;36mHTTPSConnectionPool._validate_conn\u001b[0;34m(self, conn)\u001b[0m\n\u001b[1;32m   1052\u001b[0m \u001b[39mif\u001b[39;00m \u001b[39mnot\u001b[39;00m \u001b[39mgetattr\u001b[39m(conn, \u001b[39m\"\u001b[39m\u001b[39msock\u001b[39m\u001b[39m\"\u001b[39m, \u001b[39mNone\u001b[39;00m):  \u001b[39m# AppEngine might not have  `.sock`\u001b[39;00m\n\u001b[0;32m-> 1053\u001b[0m     conn\u001b[39m.\u001b[39;49mconnect()\n\u001b[1;32m   1055\u001b[0m \u001b[39mif\u001b[39;00m \u001b[39mnot\u001b[39;00m conn\u001b[39m.\u001b[39mis_verified:\n",
      "File \u001b[0;32m~/envs/api/lib/python3.11/site-packages/urllib3/connection.py:363\u001b[0m, in \u001b[0;36mHTTPSConnection.connect\u001b[0;34m(self)\u001b[0m\n\u001b[1;32m    361\u001b[0m \u001b[39mdef\u001b[39;00m \u001b[39mconnect\u001b[39m(\u001b[39mself\u001b[39m):\n\u001b[1;32m    362\u001b[0m     \u001b[39m# Add certificate verification\u001b[39;00m\n\u001b[0;32m--> 363\u001b[0m     \u001b[39mself\u001b[39m\u001b[39m.\u001b[39msock \u001b[39m=\u001b[39m conn \u001b[39m=\u001b[39m \u001b[39mself\u001b[39;49m\u001b[39m.\u001b[39;49m_new_conn()\n\u001b[1;32m    364\u001b[0m     hostname \u001b[39m=\u001b[39m \u001b[39mself\u001b[39m\u001b[39m.\u001b[39mhost\n",
      "File \u001b[0;32m~/envs/api/lib/python3.11/site-packages/urllib3/connection.py:186\u001b[0m, in \u001b[0;36mHTTPConnection._new_conn\u001b[0;34m(self)\u001b[0m\n\u001b[1;32m    185\u001b[0m \u001b[39mexcept\u001b[39;00m SocketError \u001b[39mas\u001b[39;00m e:\n\u001b[0;32m--> 186\u001b[0m     \u001b[39mraise\u001b[39;00m NewConnectionError(\n\u001b[1;32m    187\u001b[0m         \u001b[39mself\u001b[39m, \u001b[39m\"\u001b[39m\u001b[39mFailed to establish a new connection: \u001b[39m\u001b[39m%s\u001b[39;00m\u001b[39m\"\u001b[39m \u001b[39m%\u001b[39m e\n\u001b[1;32m    188\u001b[0m     )\n\u001b[1;32m    190\u001b[0m \u001b[39mreturn\u001b[39;00m conn\n",
      "\u001b[0;31mNewConnectionError\u001b[0m: <botocore.awsrequest.AWSHTTPSConnection object at 0x10af8e910>: Failed to establish a new connection: [Errno 8] nodename nor servname provided, or not known",
      "\nDuring handling of the above exception, another exception occurred:\n",
      "\u001b[0;31mEndpointConnectionError\u001b[0m                   Traceback (most recent call last)",
      "\u001b[1;32m/Users/hrushikeshkyathari/sri/andhrabharthi/src/postprocess.ipynb Cell 2\u001b[0m line \u001b[0;36m4\n\u001b[1;32m      <a href='vscode-notebook-cell:/Users/hrushikeshkyathari/sri/andhrabharthi/src/postprocess.ipynb#W1sZmlsZQ%3D%3D?line=1'>2</a>\u001b[0m sys\u001b[39m.\u001b[39mpath\u001b[39m.\u001b[39mappend(\u001b[39m'\u001b[39m\u001b[39m..\u001b[39m\u001b[39m'\u001b[39m)\n\u001b[1;32m      <a href='vscode-notebook-cell:/Users/hrushikeshkyathari/sri/andhrabharthi/src/postprocess.ipynb#W1sZmlsZQ%3D%3D?line=2'>3</a>\u001b[0m \u001b[39mfrom\u001b[39;00m \u001b[39mget_meaning_from_db\u001b[39;00m \u001b[39mimport\u001b[39;00m query_meanings_for_word, query_words_with_prefix\n\u001b[0;32m----> <a href='vscode-notebook-cell:/Users/hrushikeshkyathari/sri/andhrabharthi/src/postprocess.ipynb#W1sZmlsZQ%3D%3D?line=3'>4</a>\u001b[0m query_meanings_for_word(\u001b[39m'\u001b[39;49m\u001b[39mధనవంతుడు\u001b[39;49m\u001b[39m'\u001b[39;49m)\n",
      "File \u001b[0;32m~/sri/andhrabharthi/src/../get_meaning_from_db.py:19\u001b[0m, in \u001b[0;36mquery_meanings_for_word\u001b[0;34m(word)\u001b[0m\n\u001b[1;32m     18\u001b[0m \u001b[39mdef\u001b[39;00m \u001b[39mquery_meanings_for_word\u001b[39m(word):\n\u001b[0;32m---> 19\u001b[0m     response \u001b[39m=\u001b[39m table\u001b[39m.\u001b[39;49mget_item(\n\u001b[1;32m     20\u001b[0m         Key\u001b[39m=\u001b[39;49m{\n\u001b[1;32m     21\u001b[0m             \u001b[39m'\u001b[39;49m\u001b[39mword\u001b[39;49m\u001b[39m'\u001b[39;49m: word\n\u001b[1;32m     22\u001b[0m         }\n\u001b[1;32m     23\u001b[0m     )\n\u001b[1;32m     24\u001b[0m     item \u001b[39m=\u001b[39m response\u001b[39m.\u001b[39mget(\u001b[39m'\u001b[39m\u001b[39mItem\u001b[39m\u001b[39m'\u001b[39m)\n\u001b[1;32m     25\u001b[0m     \u001b[39mif\u001b[39;00m item:\n",
      "File \u001b[0;32m~/envs/api/lib/python3.11/site-packages/boto3/resources/factory.py:580\u001b[0m, in \u001b[0;36mResourceFactory._create_action.<locals>.do_action\u001b[0;34m(self, *args, **kwargs)\u001b[0m\n\u001b[1;32m    579\u001b[0m \u001b[39mdef\u001b[39;00m \u001b[39mdo_action\u001b[39m(\u001b[39mself\u001b[39m, \u001b[39m*\u001b[39margs, \u001b[39m*\u001b[39m\u001b[39m*\u001b[39mkwargs):\n\u001b[0;32m--> 580\u001b[0m     response \u001b[39m=\u001b[39m action(\u001b[39mself\u001b[39;49m, \u001b[39m*\u001b[39;49margs, \u001b[39m*\u001b[39;49m\u001b[39m*\u001b[39;49mkwargs)\n\u001b[1;32m    582\u001b[0m     \u001b[39mif\u001b[39;00m \u001b[39mhasattr\u001b[39m(\u001b[39mself\u001b[39m, \u001b[39m'\u001b[39m\u001b[39mload\u001b[39m\u001b[39m'\u001b[39m):\n\u001b[1;32m    583\u001b[0m         \u001b[39m# Clear cached data. It will be reloaded the next\u001b[39;00m\n\u001b[1;32m    584\u001b[0m         \u001b[39m# time that an attribute is accessed.\u001b[39;00m\n\u001b[1;32m    585\u001b[0m         \u001b[39m# TODO: Make this configurable in the future?\u001b[39;00m\n\u001b[1;32m    586\u001b[0m         \u001b[39mself\u001b[39m\u001b[39m.\u001b[39mmeta\u001b[39m.\u001b[39mdata \u001b[39m=\u001b[39m \u001b[39mNone\u001b[39;00m\n",
      "File \u001b[0;32m~/envs/api/lib/python3.11/site-packages/boto3/resources/action.py:88\u001b[0m, in \u001b[0;36mServiceAction.__call__\u001b[0;34m(self, parent, *args, **kwargs)\u001b[0m\n\u001b[1;32m     79\u001b[0m params\u001b[39m.\u001b[39mupdate(kwargs)\n\u001b[1;32m     81\u001b[0m logger\u001b[39m.\u001b[39mdebug(\n\u001b[1;32m     82\u001b[0m     \u001b[39m'\u001b[39m\u001b[39mCalling \u001b[39m\u001b[39m%s\u001b[39;00m\u001b[39m:\u001b[39m\u001b[39m%s\u001b[39;00m\u001b[39m with \u001b[39m\u001b[39m%r\u001b[39;00m\u001b[39m'\u001b[39m,\n\u001b[1;32m     83\u001b[0m     parent\u001b[39m.\u001b[39mmeta\u001b[39m.\u001b[39mservice_name,\n\u001b[1;32m     84\u001b[0m     operation_name,\n\u001b[1;32m     85\u001b[0m     params,\n\u001b[1;32m     86\u001b[0m )\n\u001b[0;32m---> 88\u001b[0m response \u001b[39m=\u001b[39m \u001b[39mgetattr\u001b[39;49m(parent\u001b[39m.\u001b[39;49mmeta\u001b[39m.\u001b[39;49mclient, operation_name)(\u001b[39m*\u001b[39;49margs, \u001b[39m*\u001b[39;49m\u001b[39m*\u001b[39;49mparams)\n\u001b[1;32m     90\u001b[0m logger\u001b[39m.\u001b[39mdebug(\u001b[39m'\u001b[39m\u001b[39mResponse: \u001b[39m\u001b[39m%r\u001b[39;00m\u001b[39m'\u001b[39m, response)\n\u001b[1;32m     92\u001b[0m \u001b[39mreturn\u001b[39;00m \u001b[39mself\u001b[39m\u001b[39m.\u001b[39m_response_handler(parent, params, response)\n",
      "File \u001b[0;32m~/envs/api/lib/python3.11/site-packages/botocore/client.py:535\u001b[0m, in \u001b[0;36mClientCreator._create_api_method.<locals>._api_call\u001b[0;34m(self, *args, **kwargs)\u001b[0m\n\u001b[1;32m    531\u001b[0m     \u001b[39mraise\u001b[39;00m \u001b[39mTypeError\u001b[39;00m(\n\u001b[1;32m    532\u001b[0m         \u001b[39mf\u001b[39m\u001b[39m\"\u001b[39m\u001b[39m{\u001b[39;00mpy_operation_name\u001b[39m}\u001b[39;00m\u001b[39m() only accepts keyword arguments.\u001b[39m\u001b[39m\"\u001b[39m\n\u001b[1;32m    533\u001b[0m     )\n\u001b[1;32m    534\u001b[0m \u001b[39m# The \"self\" in this scope is referring to the BaseClient.\u001b[39;00m\n\u001b[0;32m--> 535\u001b[0m \u001b[39mreturn\u001b[39;00m \u001b[39mself\u001b[39;49m\u001b[39m.\u001b[39;49m_make_api_call(operation_name, kwargs)\n",
      "File \u001b[0;32m~/envs/api/lib/python3.11/site-packages/botocore/client.py:963\u001b[0m, in \u001b[0;36mBaseClient._make_api_call\u001b[0;34m(self, operation_name, api_params)\u001b[0m\n\u001b[1;32m    959\u001b[0m     maybe_compress_request(\n\u001b[1;32m    960\u001b[0m         \u001b[39mself\u001b[39m\u001b[39m.\u001b[39mmeta\u001b[39m.\u001b[39mconfig, request_dict, operation_model\n\u001b[1;32m    961\u001b[0m     )\n\u001b[1;32m    962\u001b[0m     apply_request_checksum(request_dict)\n\u001b[0;32m--> 963\u001b[0m     http, parsed_response \u001b[39m=\u001b[39m \u001b[39mself\u001b[39;49m\u001b[39m.\u001b[39;49m_make_request(\n\u001b[1;32m    964\u001b[0m         operation_model, request_dict, request_context\n\u001b[1;32m    965\u001b[0m     )\n\u001b[1;32m    967\u001b[0m \u001b[39mself\u001b[39m\u001b[39m.\u001b[39mmeta\u001b[39m.\u001b[39mevents\u001b[39m.\u001b[39memit(\n\u001b[1;32m    968\u001b[0m     \u001b[39m'\u001b[39m\u001b[39mafter-call.\u001b[39m\u001b[39m{service_id}\u001b[39;00m\u001b[39m.\u001b[39m\u001b[39m{operation_name}\u001b[39;00m\u001b[39m'\u001b[39m\u001b[39m.\u001b[39mformat(\n\u001b[1;32m    969\u001b[0m         service_id\u001b[39m=\u001b[39mservice_id, operation_name\u001b[39m=\u001b[39moperation_name\n\u001b[0;32m   (...)\u001b[0m\n\u001b[1;32m    974\u001b[0m     context\u001b[39m=\u001b[39mrequest_context,\n\u001b[1;32m    975\u001b[0m )\n\u001b[1;32m    977\u001b[0m \u001b[39mif\u001b[39;00m http\u001b[39m.\u001b[39mstatus_code \u001b[39m>\u001b[39m\u001b[39m=\u001b[39m \u001b[39m300\u001b[39m:\n",
      "File \u001b[0;32m~/envs/api/lib/python3.11/site-packages/botocore/client.py:986\u001b[0m, in \u001b[0;36mBaseClient._make_request\u001b[0;34m(self, operation_model, request_dict, request_context)\u001b[0m\n\u001b[1;32m    984\u001b[0m \u001b[39mdef\u001b[39;00m \u001b[39m_make_request\u001b[39m(\u001b[39mself\u001b[39m, operation_model, request_dict, request_context):\n\u001b[1;32m    985\u001b[0m     \u001b[39mtry\u001b[39;00m:\n\u001b[0;32m--> 986\u001b[0m         \u001b[39mreturn\u001b[39;00m \u001b[39mself\u001b[39;49m\u001b[39m.\u001b[39;49m_endpoint\u001b[39m.\u001b[39;49mmake_request(operation_model, request_dict)\n\u001b[1;32m    987\u001b[0m     \u001b[39mexcept\u001b[39;00m \u001b[39mException\u001b[39;00m \u001b[39mas\u001b[39;00m e:\n\u001b[1;32m    988\u001b[0m         \u001b[39mself\u001b[39m\u001b[39m.\u001b[39mmeta\u001b[39m.\u001b[39mevents\u001b[39m.\u001b[39memit(\n\u001b[1;32m    989\u001b[0m             \u001b[39m'\u001b[39m\u001b[39mafter-call-error.\u001b[39m\u001b[39m{service_id}\u001b[39;00m\u001b[39m.\u001b[39m\u001b[39m{operation_name}\u001b[39;00m\u001b[39m'\u001b[39m\u001b[39m.\u001b[39mformat(\n\u001b[1;32m    990\u001b[0m                 service_id\u001b[39m=\u001b[39m\u001b[39mself\u001b[39m\u001b[39m.\u001b[39m_service_model\u001b[39m.\u001b[39mservice_id\u001b[39m.\u001b[39mhyphenize(),\n\u001b[0;32m   (...)\u001b[0m\n\u001b[1;32m    994\u001b[0m             context\u001b[39m=\u001b[39mrequest_context,\n\u001b[1;32m    995\u001b[0m         )\n",
      "File \u001b[0;32m~/envs/api/lib/python3.11/site-packages/botocore/endpoint.py:119\u001b[0m, in \u001b[0;36mEndpoint.make_request\u001b[0;34m(self, operation_model, request_dict)\u001b[0m\n\u001b[1;32m    113\u001b[0m \u001b[39mdef\u001b[39;00m \u001b[39mmake_request\u001b[39m(\u001b[39mself\u001b[39m, operation_model, request_dict):\n\u001b[1;32m    114\u001b[0m     logger\u001b[39m.\u001b[39mdebug(\n\u001b[1;32m    115\u001b[0m         \u001b[39m\"\u001b[39m\u001b[39mMaking request for \u001b[39m\u001b[39m%s\u001b[39;00m\u001b[39m with params: \u001b[39m\u001b[39m%s\u001b[39;00m\u001b[39m\"\u001b[39m,\n\u001b[1;32m    116\u001b[0m         operation_model,\n\u001b[1;32m    117\u001b[0m         request_dict,\n\u001b[1;32m    118\u001b[0m     )\n\u001b[0;32m--> 119\u001b[0m     \u001b[39mreturn\u001b[39;00m \u001b[39mself\u001b[39;49m\u001b[39m.\u001b[39;49m_send_request(request_dict, operation_model)\n",
      "File \u001b[0;32m~/envs/api/lib/python3.11/site-packages/botocore/endpoint.py:202\u001b[0m, in \u001b[0;36mEndpoint._send_request\u001b[0;34m(self, request_dict, operation_model)\u001b[0m\n\u001b[1;32m    198\u001b[0m request \u001b[39m=\u001b[39m \u001b[39mself\u001b[39m\u001b[39m.\u001b[39mcreate_request(request_dict, operation_model)\n\u001b[1;32m    199\u001b[0m success_response, exception \u001b[39m=\u001b[39m \u001b[39mself\u001b[39m\u001b[39m.\u001b[39m_get_response(\n\u001b[1;32m    200\u001b[0m     request, operation_model, context\n\u001b[1;32m    201\u001b[0m )\n\u001b[0;32m--> 202\u001b[0m \u001b[39mwhile\u001b[39;00m \u001b[39mself\u001b[39;49m\u001b[39m.\u001b[39;49m_needs_retry(\n\u001b[1;32m    203\u001b[0m     attempts,\n\u001b[1;32m    204\u001b[0m     operation_model,\n\u001b[1;32m    205\u001b[0m     request_dict,\n\u001b[1;32m    206\u001b[0m     success_response,\n\u001b[1;32m    207\u001b[0m     exception,\n\u001b[1;32m    208\u001b[0m ):\n\u001b[1;32m    209\u001b[0m     attempts \u001b[39m+\u001b[39m\u001b[39m=\u001b[39m \u001b[39m1\u001b[39m\n\u001b[1;32m    210\u001b[0m     \u001b[39mself\u001b[39m\u001b[39m.\u001b[39m_update_retries_context(context, attempts, success_response)\n",
      "File \u001b[0;32m~/envs/api/lib/python3.11/site-packages/botocore/endpoint.py:354\u001b[0m, in \u001b[0;36mEndpoint._needs_retry\u001b[0;34m(self, attempts, operation_model, request_dict, response, caught_exception)\u001b[0m\n\u001b[1;32m    352\u001b[0m service_id \u001b[39m=\u001b[39m operation_model\u001b[39m.\u001b[39mservice_model\u001b[39m.\u001b[39mservice_id\u001b[39m.\u001b[39mhyphenize()\n\u001b[1;32m    353\u001b[0m event_name \u001b[39m=\u001b[39m \u001b[39mf\u001b[39m\u001b[39m\"\u001b[39m\u001b[39mneeds-retry.\u001b[39m\u001b[39m{\u001b[39;00mservice_id\u001b[39m}\u001b[39;00m\u001b[39m.\u001b[39m\u001b[39m{\u001b[39;00moperation_model\u001b[39m.\u001b[39mname\u001b[39m}\u001b[39;00m\u001b[39m\"\u001b[39m\n\u001b[0;32m--> 354\u001b[0m responses \u001b[39m=\u001b[39m \u001b[39mself\u001b[39;49m\u001b[39m.\u001b[39;49m_event_emitter\u001b[39m.\u001b[39;49memit(\n\u001b[1;32m    355\u001b[0m     event_name,\n\u001b[1;32m    356\u001b[0m     response\u001b[39m=\u001b[39;49mresponse,\n\u001b[1;32m    357\u001b[0m     endpoint\u001b[39m=\u001b[39;49m\u001b[39mself\u001b[39;49m,\n\u001b[1;32m    358\u001b[0m     operation\u001b[39m=\u001b[39;49moperation_model,\n\u001b[1;32m    359\u001b[0m     attempts\u001b[39m=\u001b[39;49mattempts,\n\u001b[1;32m    360\u001b[0m     caught_exception\u001b[39m=\u001b[39;49mcaught_exception,\n\u001b[1;32m    361\u001b[0m     request_dict\u001b[39m=\u001b[39;49mrequest_dict,\n\u001b[1;32m    362\u001b[0m )\n\u001b[1;32m    363\u001b[0m handler_response \u001b[39m=\u001b[39m first_non_none_response(responses)\n\u001b[1;32m    364\u001b[0m \u001b[39mif\u001b[39;00m handler_response \u001b[39mis\u001b[39;00m \u001b[39mNone\u001b[39;00m:\n",
      "File \u001b[0;32m~/envs/api/lib/python3.11/site-packages/botocore/hooks.py:412\u001b[0m, in \u001b[0;36mEventAliaser.emit\u001b[0;34m(self, event_name, **kwargs)\u001b[0m\n\u001b[1;32m    410\u001b[0m \u001b[39mdef\u001b[39;00m \u001b[39memit\u001b[39m(\u001b[39mself\u001b[39m, event_name, \u001b[39m*\u001b[39m\u001b[39m*\u001b[39mkwargs):\n\u001b[1;32m    411\u001b[0m     aliased_event_name \u001b[39m=\u001b[39m \u001b[39mself\u001b[39m\u001b[39m.\u001b[39m_alias_event_name(event_name)\n\u001b[0;32m--> 412\u001b[0m     \u001b[39mreturn\u001b[39;00m \u001b[39mself\u001b[39;49m\u001b[39m.\u001b[39;49m_emitter\u001b[39m.\u001b[39;49memit(aliased_event_name, \u001b[39m*\u001b[39;49m\u001b[39m*\u001b[39;49mkwargs)\n",
      "File \u001b[0;32m~/envs/api/lib/python3.11/site-packages/botocore/hooks.py:256\u001b[0m, in \u001b[0;36mHierarchicalEmitter.emit\u001b[0;34m(self, event_name, **kwargs)\u001b[0m\n\u001b[1;32m    245\u001b[0m \u001b[39mdef\u001b[39;00m \u001b[39memit\u001b[39m(\u001b[39mself\u001b[39m, event_name, \u001b[39m*\u001b[39m\u001b[39m*\u001b[39mkwargs):\n\u001b[1;32m    246\u001b[0m \u001b[39m    \u001b[39m\u001b[39m\"\"\"\u001b[39;00m\n\u001b[1;32m    247\u001b[0m \u001b[39m    Emit an event by name with arguments passed as keyword args.\u001b[39;00m\n\u001b[1;32m    248\u001b[0m \n\u001b[0;32m   (...)\u001b[0m\n\u001b[1;32m    254\u001b[0m \u001b[39m             handlers.\u001b[39;00m\n\u001b[1;32m    255\u001b[0m \u001b[39m    \"\"\"\u001b[39;00m\n\u001b[0;32m--> 256\u001b[0m     \u001b[39mreturn\u001b[39;00m \u001b[39mself\u001b[39;49m\u001b[39m.\u001b[39;49m_emit(event_name, kwargs)\n",
      "File \u001b[0;32m~/envs/api/lib/python3.11/site-packages/botocore/hooks.py:239\u001b[0m, in \u001b[0;36mHierarchicalEmitter._emit\u001b[0;34m(self, event_name, kwargs, stop_on_response)\u001b[0m\n\u001b[1;32m    237\u001b[0m \u001b[39mfor\u001b[39;00m handler \u001b[39min\u001b[39;00m handlers_to_call:\n\u001b[1;32m    238\u001b[0m     logger\u001b[39m.\u001b[39mdebug(\u001b[39m'\u001b[39m\u001b[39mEvent \u001b[39m\u001b[39m%s\u001b[39;00m\u001b[39m: calling handler \u001b[39m\u001b[39m%s\u001b[39;00m\u001b[39m'\u001b[39m, event_name, handler)\n\u001b[0;32m--> 239\u001b[0m     response \u001b[39m=\u001b[39m handler(\u001b[39m*\u001b[39;49m\u001b[39m*\u001b[39;49mkwargs)\n\u001b[1;32m    240\u001b[0m     responses\u001b[39m.\u001b[39mappend((handler, response))\n\u001b[1;32m    241\u001b[0m     \u001b[39mif\u001b[39;00m stop_on_response \u001b[39mand\u001b[39;00m response \u001b[39mis\u001b[39;00m \u001b[39mnot\u001b[39;00m \u001b[39mNone\u001b[39;00m:\n",
      "File \u001b[0;32m~/envs/api/lib/python3.11/site-packages/botocore/retryhandler.py:207\u001b[0m, in \u001b[0;36mRetryHandler.__call__\u001b[0;34m(self, attempts, response, caught_exception, **kwargs)\u001b[0m\n\u001b[1;32m    204\u001b[0m     retries_context \u001b[39m=\u001b[39m kwargs[\u001b[39m'\u001b[39m\u001b[39mrequest_dict\u001b[39m\u001b[39m'\u001b[39m][\u001b[39m'\u001b[39m\u001b[39mcontext\u001b[39m\u001b[39m'\u001b[39m]\u001b[39m.\u001b[39mget(\u001b[39m'\u001b[39m\u001b[39mretries\u001b[39m\u001b[39m'\u001b[39m)\n\u001b[1;32m    205\u001b[0m     checker_kwargs\u001b[39m.\u001b[39mupdate({\u001b[39m'\u001b[39m\u001b[39mretries_context\u001b[39m\u001b[39m'\u001b[39m: retries_context})\n\u001b[0;32m--> 207\u001b[0m \u001b[39mif\u001b[39;00m \u001b[39mself\u001b[39;49m\u001b[39m.\u001b[39;49m_checker(\u001b[39m*\u001b[39;49m\u001b[39m*\u001b[39;49mchecker_kwargs):\n\u001b[1;32m    208\u001b[0m     result \u001b[39m=\u001b[39m \u001b[39mself\u001b[39m\u001b[39m.\u001b[39m_action(attempts\u001b[39m=\u001b[39mattempts)\n\u001b[1;32m    209\u001b[0m     logger\u001b[39m.\u001b[39mdebug(\u001b[39m\"\u001b[39m\u001b[39mRetry needed, action of: \u001b[39m\u001b[39m%s\u001b[39;00m\u001b[39m\"\u001b[39m, result)\n",
      "File \u001b[0;32m~/envs/api/lib/python3.11/site-packages/botocore/retryhandler.py:284\u001b[0m, in \u001b[0;36mMaxAttemptsDecorator.__call__\u001b[0;34m(self, attempt_number, response, caught_exception, retries_context)\u001b[0m\n\u001b[1;32m    279\u001b[0m \u001b[39mif\u001b[39;00m retries_context:\n\u001b[1;32m    280\u001b[0m     retries_context[\u001b[39m'\u001b[39m\u001b[39mmax\u001b[39m\u001b[39m'\u001b[39m] \u001b[39m=\u001b[39m \u001b[39mmax\u001b[39m(\n\u001b[1;32m    281\u001b[0m         retries_context\u001b[39m.\u001b[39mget(\u001b[39m'\u001b[39m\u001b[39mmax\u001b[39m\u001b[39m'\u001b[39m, \u001b[39m0\u001b[39m), \u001b[39mself\u001b[39m\u001b[39m.\u001b[39m_max_attempts\n\u001b[1;32m    282\u001b[0m     )\n\u001b[0;32m--> 284\u001b[0m should_retry \u001b[39m=\u001b[39m \u001b[39mself\u001b[39;49m\u001b[39m.\u001b[39;49m_should_retry(\n\u001b[1;32m    285\u001b[0m     attempt_number, response, caught_exception\n\u001b[1;32m    286\u001b[0m )\n\u001b[1;32m    287\u001b[0m \u001b[39mif\u001b[39;00m should_retry:\n\u001b[1;32m    288\u001b[0m     \u001b[39mif\u001b[39;00m attempt_number \u001b[39m>\u001b[39m\u001b[39m=\u001b[39m \u001b[39mself\u001b[39m\u001b[39m.\u001b[39m_max_attempts:\n\u001b[1;32m    289\u001b[0m         \u001b[39m# explicitly set MaxAttemptsReached\u001b[39;00m\n",
      "File \u001b[0;32m~/envs/api/lib/python3.11/site-packages/botocore/retryhandler.py:320\u001b[0m, in \u001b[0;36mMaxAttemptsDecorator._should_retry\u001b[0;34m(self, attempt_number, response, caught_exception)\u001b[0m\n\u001b[1;32m    316\u001b[0m         \u001b[39mreturn\u001b[39;00m \u001b[39mTrue\u001b[39;00m\n\u001b[1;32m    317\u001b[0m \u001b[39melse\u001b[39;00m:\n\u001b[1;32m    318\u001b[0m     \u001b[39m# If we've exceeded the max attempts we just let the exception\u001b[39;00m\n\u001b[1;32m    319\u001b[0m     \u001b[39m# propogate if one has occurred.\u001b[39;00m\n\u001b[0;32m--> 320\u001b[0m     \u001b[39mreturn\u001b[39;00m \u001b[39mself\u001b[39;49m\u001b[39m.\u001b[39;49m_checker(attempt_number, response, caught_exception)\n",
      "File \u001b[0;32m~/envs/api/lib/python3.11/site-packages/botocore/retryhandler.py:363\u001b[0m, in \u001b[0;36mMultiChecker.__call__\u001b[0;34m(self, attempt_number, response, caught_exception)\u001b[0m\n\u001b[1;32m    361\u001b[0m \u001b[39mdef\u001b[39;00m \u001b[39m__call__\u001b[39m(\u001b[39mself\u001b[39m, attempt_number, response, caught_exception):\n\u001b[1;32m    362\u001b[0m     \u001b[39mfor\u001b[39;00m checker \u001b[39min\u001b[39;00m \u001b[39mself\u001b[39m\u001b[39m.\u001b[39m_checkers:\n\u001b[0;32m--> 363\u001b[0m         checker_response \u001b[39m=\u001b[39m checker(\n\u001b[1;32m    364\u001b[0m             attempt_number, response, caught_exception\n\u001b[1;32m    365\u001b[0m         )\n\u001b[1;32m    366\u001b[0m         \u001b[39mif\u001b[39;00m checker_response:\n\u001b[1;32m    367\u001b[0m             \u001b[39mreturn\u001b[39;00m checker_response\n",
      "File \u001b[0;32m~/envs/api/lib/python3.11/site-packages/botocore/retryhandler.py:247\u001b[0m, in \u001b[0;36mBaseChecker.__call__\u001b[0;34m(self, attempt_number, response, caught_exception)\u001b[0m\n\u001b[1;32m    245\u001b[0m     \u001b[39mreturn\u001b[39;00m \u001b[39mself\u001b[39m\u001b[39m.\u001b[39m_check_response(attempt_number, response)\n\u001b[1;32m    246\u001b[0m \u001b[39melif\u001b[39;00m caught_exception \u001b[39mis\u001b[39;00m \u001b[39mnot\u001b[39;00m \u001b[39mNone\u001b[39;00m:\n\u001b[0;32m--> 247\u001b[0m     \u001b[39mreturn\u001b[39;00m \u001b[39mself\u001b[39;49m\u001b[39m.\u001b[39;49m_check_caught_exception(\n\u001b[1;32m    248\u001b[0m         attempt_number, caught_exception\n\u001b[1;32m    249\u001b[0m     )\n\u001b[1;32m    250\u001b[0m \u001b[39melse\u001b[39;00m:\n\u001b[1;32m    251\u001b[0m     \u001b[39mraise\u001b[39;00m \u001b[39mValueError\u001b[39;00m(\u001b[39m\"\u001b[39m\u001b[39mBoth response and caught_exception are None.\u001b[39m\u001b[39m\"\u001b[39m)\n",
      "File \u001b[0;32m~/envs/api/lib/python3.11/site-packages/botocore/retryhandler.py:416\u001b[0m, in \u001b[0;36mExceptionRaiser._check_caught_exception\u001b[0;34m(self, attempt_number, caught_exception)\u001b[0m\n\u001b[1;32m    408\u001b[0m \u001b[39mdef\u001b[39;00m \u001b[39m_check_caught_exception\u001b[39m(\u001b[39mself\u001b[39m, attempt_number, caught_exception):\n\u001b[1;32m    409\u001b[0m     \u001b[39m# This is implementation specific, but this class is useful by\u001b[39;00m\n\u001b[1;32m    410\u001b[0m     \u001b[39m# coordinating with the MaxAttemptsDecorator.\u001b[39;00m\n\u001b[0;32m   (...)\u001b[0m\n\u001b[1;32m    414\u001b[0m     \u001b[39m# the MaxAttemptsDecorator is not interested in retrying the exception\u001b[39;00m\n\u001b[1;32m    415\u001b[0m     \u001b[39m# then this exception just propogates out past the retry code.\u001b[39;00m\n\u001b[0;32m--> 416\u001b[0m     \u001b[39mraise\u001b[39;00m caught_exception\n",
      "File \u001b[0;32m~/envs/api/lib/python3.11/site-packages/botocore/endpoint.py:281\u001b[0m, in \u001b[0;36mEndpoint._do_get_response\u001b[0;34m(self, request, operation_model, context)\u001b[0m\n\u001b[1;32m    279\u001b[0m     http_response \u001b[39m=\u001b[39m first_non_none_response(responses)\n\u001b[1;32m    280\u001b[0m     \u001b[39mif\u001b[39;00m http_response \u001b[39mis\u001b[39;00m \u001b[39mNone\u001b[39;00m:\n\u001b[0;32m--> 281\u001b[0m         http_response \u001b[39m=\u001b[39m \u001b[39mself\u001b[39;49m\u001b[39m.\u001b[39;49m_send(request)\n\u001b[1;32m    282\u001b[0m \u001b[39mexcept\u001b[39;00m HTTPClientError \u001b[39mas\u001b[39;00m e:\n\u001b[1;32m    283\u001b[0m     \u001b[39mreturn\u001b[39;00m (\u001b[39mNone\u001b[39;00m, e)\n",
      "File \u001b[0;32m~/envs/api/lib/python3.11/site-packages/botocore/endpoint.py:377\u001b[0m, in \u001b[0;36mEndpoint._send\u001b[0;34m(self, request)\u001b[0m\n\u001b[1;32m    376\u001b[0m \u001b[39mdef\u001b[39;00m \u001b[39m_send\u001b[39m(\u001b[39mself\u001b[39m, request):\n\u001b[0;32m--> 377\u001b[0m     \u001b[39mreturn\u001b[39;00m \u001b[39mself\u001b[39;49m\u001b[39m.\u001b[39;49mhttp_session\u001b[39m.\u001b[39;49msend(request)\n",
      "File \u001b[0;32m~/envs/api/lib/python3.11/site-packages/botocore/httpsession.py:494\u001b[0m, in \u001b[0;36mURLLib3Session.send\u001b[0;34m(self, request)\u001b[0m\n\u001b[1;32m    492\u001b[0m     \u001b[39mraise\u001b[39;00m SSLError(endpoint_url\u001b[39m=\u001b[39mrequest\u001b[39m.\u001b[39murl, error\u001b[39m=\u001b[39me)\n\u001b[1;32m    493\u001b[0m \u001b[39mexcept\u001b[39;00m (NewConnectionError, socket\u001b[39m.\u001b[39mgaierror) \u001b[39mas\u001b[39;00m e:\n\u001b[0;32m--> 494\u001b[0m     \u001b[39mraise\u001b[39;00m EndpointConnectionError(endpoint_url\u001b[39m=\u001b[39mrequest\u001b[39m.\u001b[39murl, error\u001b[39m=\u001b[39me)\n\u001b[1;32m    495\u001b[0m \u001b[39mexcept\u001b[39;00m ProxyError \u001b[39mas\u001b[39;00m e:\n\u001b[1;32m    496\u001b[0m     \u001b[39mraise\u001b[39;00m ProxyConnectionError(\n\u001b[1;32m    497\u001b[0m         proxy_url\u001b[39m=\u001b[39mmask_proxy_url(proxy_url), error\u001b[39m=\u001b[39me\n\u001b[1;32m    498\u001b[0m     )\n",
      "\u001b[0;31mEndpointConnectionError\u001b[0m: Could not connect to the endpoint URL: \"https://dynamodb.us-east-1.amazonaws.com/\""
     ]
    }
   ],
   "source": [
    "import sys\n",
    "sys.path.append('..')\n",
    "from get_meaning_from_db import query_meanings_for_word, query_words_with_prefix\n",
    "query_meanings_for_word('ధనవంతుడు')"
   ]
  },
  {
   "cell_type": "code",
   "execution_count": 9,
   "metadata": {},
   "outputs": [
    {
     "data": {
      "text/plain": [
       "['నిగ్రహాన్ని కోల్పోవడాన్ని ఆగ్రహము అని అంటారుఅభినివేశము, పట్టుదల; మాత్సర్యము, చలము.కోపము',\n",
       " 'అసూయ,  ఆమర్షము, ఆవేశము, ఈరస, ఈరసము, ఈసు, ఉద్రేకము, కనలు, కసరు....తెలుగు పర్యాయపద నిఘంటువు (జి.యన్.రెడ్డి) 1990']"
      ]
     },
     "execution_count": 9,
     "metadata": {},
     "output_type": "execute_result"
    }
   ],
   "source": [
    "query_meanings_for_word('ఆగ్రహము')"
   ]
  },
  {
   "cell_type": "code",
   "execution_count": 5,
   "metadata": {},
   "outputs": [
    {
     "name": "stdout",
     "output_type": "stream",
     "text": [
      "No meanings found for 'చంద్రబాబు'.\n",
      "No meanings found for 'జగన్‌రెడ్డి'.\n",
      "No meanings found for 'చేసిన'.\n",
      "No meanings found for 'అవినీతిపై'.\n",
      "No meanings found for 'కటకటాలపాలు'.\n",
      "No meanings found for 'చేయడం'.\n",
      "No meanings found for 'ఖాయమని'.\n",
      "No meanings found for 'తెలుగుదేశం'.\n",
      "No meanings found for 'పార్టీ'.\n",
      "No meanings found for 'రాష్ట్ర'.\n",
      "No meanings found for 'ఉపాధ్యక్షులు'.\n",
      "No meanings found for 'సూర్య(Vemuri'.\n",
      "No meanings found for 'Anand'.\n",
      "No meanings found for 'Surya)'.\n",
      "No meanings found for 'వ్యాఖ్యానించారు.'.\n",
      "No meanings found for 'శుక్రవారం'.\n",
      "No meanings found for 'టీడీపీ'.\n",
      "No meanings found for 'పార్టీ'.\n",
      "No meanings found for 'కార్యాలయంలో'.\n",
      "No meanings found for 'ఆయన'.\n",
      "No meanings found for 'మీడియాతో'.\n",
      "No meanings found for 'మాట్లాడుతూ..‘‘ప్రతిపక్షనేతపై'.\n",
      "No meanings found for 'పెట్టింది'.\n",
      "No meanings found for 'అక్రమ'.\n",
      "No meanings found for 'కేసు'.\n",
      "No meanings found for 'కాబట్టే...'.\n",
      "No meanings found for 'ప్రభుత్వం..'.\n",
      "No meanings found for 'అధికారుల'.\n",
      "No meanings found for 'జోలికి'.\n",
      "No meanings found for 'వెళ్లడం'.\n",
      "No meanings found for 'లేదు.'.\n",
      "No meanings found for 'చంద్రబాబు'.\n",
      "No meanings found for 'చేశాడని'.\n",
      "No meanings found for 'మంత్రులు..'.\n",
      "No meanings found for 'వైసీపీ'.\n",
      "No meanings found for 'నేతలు,'.\n",
      "No meanings found for 'ఆ'.\n",
      "No meanings found for 'పార్టీ'.\n",
      "No meanings found for 'పేటీఎమ్'.\n",
      "No meanings found for 'బ్యాచ్'.\n",
      "No meanings found for 'ఆరోపణలు'.\n",
      "No meanings found for 'చేస్తున్నారు.'.\n",
      "No meanings found for 'టీడీపీ'.\n",
      "No meanings found for 'తప్పు'.\n",
      "No meanings found for 'చేశాడని'.\n",
      "No meanings found for 'ఆధారాలు,'.\n",
      "No meanings found for 'సాక్ష్యాలు'.\n",
      "No meanings found for 'ఏమున్నాయో'.\n",
      "No meanings found for 'నిరూపించాలి.'.\n",
      "No meanings found for 'చంద్రబాబు'.\n",
      "No meanings found for 'తప్పు'.\n",
      "No meanings found for 'చేయలేదనడానికి'.\n",
      "No meanings found for 'రాష్ట్రవ్యాప్తంగా'.\n",
      "No meanings found for 'జరుగుతున్న'.\n",
      "No meanings found for 'నిరసనలు..'.\n",
      "No meanings found for 'దీక్షలు....'.\n",
      "No meanings found for 'ధర్నాలే'.\n",
      "No meanings found for 'నిదర్శనం.'.\n",
      "No meanings found for 'భవితకు'.\n",
      "No meanings found for 'వెలుగుదివ్వెలా'.\n",
      "No meanings found for 'నిలిచిన'.\n",
      "No meanings found for 'ప్రాజెక్ట్‌ను'.\n",
      "No meanings found for 'జగన్‌రెడ్డి'.\n",
      "No meanings found for 'దురహంకారంతో'.\n",
      "No meanings found for 'నీరుగార్చారు.'.\n",
      "No meanings found for 'జగన్‌రెడ్డి'.\n",
      "No meanings found for 'జీవితాలను'.\n",
      "No meanings found for 'అంధకారం'.\n",
      "No meanings found for 'చేశాడు’’'.\n",
      "No meanings found for 'తీవ్ర'.\n",
      "No meanings found for 'స్థాయిలో'.\n",
      "No meanings found for 'ఆగ్రహం'.\n",
      "No meanings found for 'వ్యక్తం'.\n",
      "No meanings found for 'చేశారు.'.\n",
      "TOTAL PRESENT 15 AND ABSENT ARE 74\n"
     ]
    }
   ],
   "source": [
    "from get_meaning_from_db import query_meanings_for_word, query_words_with_prefix\n",
    "sen = 'చంద్రబాబు ముఖ్యమంత్రి అయిన వెంటనే జగన్‌రెడ్డి చేసిన అవినీతిపై కటకటాలపాలు చేయడం ఖాయమని తెలుగుదేశం పార్టీ రాష్ట్ర ఉపాధ్యక్షులు వేమూరి ఆనంద్ సూర్య(Vemuri Anand Surya) వ్యాఖ్యానించారు. శుక్రవారం నాడు టీడీపీ పార్టీ కార్యాలయంలో ఆయన మీడియాతో మాట్లాడుతూ..‘‘ప్రతిపక్షనేతపై పెట్టింది అక్రమ కేసు కాబట్టే... ఈ ప్రభుత్వం.. ముఖ్యమంత్రి అధికారుల జోలికి వెళ్లడం లేదు. చంద్రబాబు అవినీతి చేశాడని మంత్రులు.. వైసీపీ నేతలు, ఆ పార్టీ పేటీఎమ్ బ్యాచ్ అసత్య ఆరోపణలు చేస్తున్నారు. టీడీపీ అధినేత తప్పు చేశాడని ఆధారాలు, సాక్ష్యాలు ఏమున్నాయో నిరూపించాలి. చంద్రబాబు తప్పు చేయలేదనడానికి రాష్ట్రవ్యాప్తంగా జరుగుతున్న నిరసనలు.. దీక్షలు.... ధర్నాలే నిదర్శనం. యువత భవితకు వెలుగుదివ్వెలా నిలిచిన గొప్ప ప్రాజెక్ట్‌ను జగన్‌రెడ్డి దురహంకారంతో నీరుగార్చారు. జగన్‌రెడ్డి యువత జీవితాలను అంధకారం చేశాడు’’ అని తీవ్ర స్థాయిలో ఆగ్రహం వ్యక్తం చేశారు.'\n",
    "words = sen.split()\n",
    "present = 0\n",
    "absent = 0\n",
    "for word in words:\n",
    "    meanings = query_meanings_for_word(word)\n",
    "    if meanings:\n",
    "        present += 1\n",
    "        # print(f\"Meanings for '{word}':\")\n",
    "        # for meaning in meanings:\n",
    "        #     print(meaning)\n",
    "    else:\n",
    "        absent += 1\n",
    "        print(f\"No meanings found for '{word}'.\")\n",
    "        # half_word = word[:int(len(word) * 0.75)]\n",
    "        # list_prefixs = query_words_with_prefix(half_word)\n",
    "        # if list_prefixs:\n",
    "        #     print(\"ALTERNATIVES ARE: \", list_prefixs)\n",
    "print(f\"TOTAL PRESENT {present} AND ABSENT ARE {absent}\")"
   ]
  },
  {
   "cell_type": "code",
   "execution_count": 4,
   "metadata": {},
   "outputs": [
    {
     "name": "stdout",
     "output_type": "stream",
     "text": [
      "ఒకానొక\n",
      "ఊరియందు\n",
      "ఒక\n",
      "('ధనవంత', 'ధనవంతుడు')\n",
      "కలడు\n",
      "వాడు\n",
      "('పాపాత్మ', 'పాపాత్ముడు')\n",
      "ఎన్నో\n",
      "('పాపమ', 'పాపము', 'పాపములు')\n",
      "చేసిన\n",
      "తరువాత\n",
      "వాడికి\n",
      "పాపభీతి\n",
      "పట్టుకుంది\n",
      "('దానితోము', 'దానితో')\n",
      "వాడు\n",
      "ఒక\n",
      "('మునీశ్వరుని', 'మునీశ్వరు')\n",
      "('కలుసుకుని', 'కలుసుకు')\n",
      "“మునివర్యా\n",
      "('న', 'నే', 'నేను')\n",
      "తెలిసి\n",
      "ఎన్నో\n",
      "('పాపా', 'పాపాల', 'పాపాలను')\n",
      "('చేశ', 'చేశా', 'చేశాను')\n",
      "('ఇప్ప', 'ఇప్పుడు')\n",
      "FOUND Meaning for ('ఇప్ప', 'ఇప్పుడు') in 'ఇప్పుడు':  ['ఈ+పొద్దు;ఈ కాలము/ప్రస్తుతం /రూ-ఇపుడు.', 'ఈ సమయము, ఈ కాలము.  /రూ. ఇపుడు. ఇప్డు.']\n",
      "Got temp_flag for :  ఇప్పుడు\n",
      "('న', 'నా', 'నాకు')\n"
     ]
    },
    {
     "ename": "IndexError",
     "evalue": "string index out of range",
     "output_type": "error",
     "traceback": [
      "\u001b[0;31m---------------------------------------------------------------------------\u001b[0m",
      "\u001b[0;31mIndexError\u001b[0m                                Traceback (most recent call last)",
      "\u001b[1;32m/Users/hrushikeshkyathari/sri/andhrabharthi/src/postprocess.ipynb Cell 5\u001b[0m line \u001b[0;36m9\n\u001b[1;32m      <a href='vscode-notebook-cell:/Users/hrushikeshkyathari/sri/andhrabharthi/src/postprocess.ipynb#W6sZmlsZQ%3D%3D?line=4'>5</a>\u001b[0m absent \u001b[39m=\u001b[39m \u001b[39m0\u001b[39m\n\u001b[1;32m      <a href='vscode-notebook-cell:/Users/hrushikeshkyathari/sri/andhrabharthi/src/postprocess.ipynb#W6sZmlsZQ%3D%3D?line=5'>6</a>\u001b[0m \u001b[39mfor\u001b[39;00m i, aword \u001b[39min\u001b[39;00m \u001b[39menumerate\u001b[39m(words):\n\u001b[1;32m      <a href='vscode-notebook-cell:/Users/hrushikeshkyathari/sri/andhrabharthi/src/postprocess.ipynb#W6sZmlsZQ%3D%3D?line=6'>7</a>\u001b[0m     \u001b[39m# if i % 7 != 0:\u001b[39;00m\n\u001b[1;32m      <a href='vscode-notebook-cell:/Users/hrushikeshkyathari/sri/andhrabharthi/src/postprocess.ipynb#W6sZmlsZQ%3D%3D?line=7'>8</a>\u001b[0m     \u001b[39m#     continue\u001b[39;00m\n\u001b[0;32m----> <a href='vscode-notebook-cell:/Users/hrushikeshkyathari/sri/andhrabharthi/src/postprocess.ipynb#W6sZmlsZQ%3D%3D?line=8'>9</a>\u001b[0m     ans \u001b[39m=\u001b[39m list_cases(aword)\n\u001b[1;32m     <a href='vscode-notebook-cell:/Users/hrushikeshkyathari/sri/andhrabharthi/src/postprocess.ipynb#W6sZmlsZQ%3D%3D?line=9'>10</a>\u001b[0m     \u001b[39mprint\u001b[39m(ans)\n\u001b[1;32m     <a href='vscode-notebook-cell:/Users/hrushikeshkyathari/sri/andhrabharthi/src/postprocess.ipynb#W6sZmlsZQ%3D%3D?line=10'>11</a>\u001b[0m     \u001b[39mfor\u001b[39;00m word \u001b[39min\u001b[39;00m ans:\n",
      "File \u001b[0;32m~/sri/andhrabharthi/src/post_process.py:88\u001b[0m, in \u001b[0;36mlist_cases\u001b[0;34m(word)\u001b[0m\n\u001b[1;32m     86\u001b[0m     \u001b[39mreturn\u001b[39;00m new_word, word\n\u001b[1;32m     87\u001b[0m \u001b[39m# రాష్ట్రవ్యాప్తంగా\u001b[39;00m\n\u001b[0;32m---> 88\u001b[0m \u001b[39melif\u001b[39;00m word[\u001b[39m-\u001b[39;49m\u001b[39m2\u001b[39;49m] \u001b[39m==\u001b[39m \u001b[39m'\u001b[39m\u001b[39mగా\u001b[39m\u001b[39m'\u001b[39m:\n\u001b[1;32m     89\u001b[0m     \u001b[39m#print('CASE 10')\u001b[39;00m\n\u001b[1;32m     90\u001b[0m     new_word \u001b[39m=\u001b[39m word[:\u001b[39m-\u001b[39m\u001b[39m2\u001b[39m]\n\u001b[1;32m     91\u001b[0m     \u001b[39mreturn\u001b[39;00m new_word, word\n",
      "\u001b[0;31mIndexError\u001b[0m: string index out of range"
     ]
    }
   ],
   "source": [
    "from get_meaning_from_db import query_meanings_for_word, query_words_with_prefix\n",
    "sen = 'ఒకానొక ఊరియందు ఒక ధనవంతుడు కలడు. వాడు పాపాత్ముడు. ఎన్నో పాపములు చేసిన తరువాత వాడికి పాపభీతి పట్టుకుంది. దానితో వాడు ఒక మునీశ్వరుని కలుసుకుని “మునివర్యా! నేను తెలిసి ఎన్నో పాపాలను చేశాను. ఇప్పుడు నాకు ఈ అంతిమ దశలో వాటి గురించి భయం పట్టుకున్నది. నేను చేసిన దాని మూలముగా నేను, నా పెద్దలు, పూర్వులు, నా రాబోయే తరములవారు నరకములో ఘోర పాపములను అనుభవించెదవేమో! దీనికి తమరే తరుణోపాయమును సెలవియ్య వలెనని” వేడుకున్నాడు.'\n",
    "words = sen.split()\n",
    "present = 0\n",
    "absent = 0\n",
    "for i, aword in enumerate(words):\n",
    "    # if i % 7 != 0:\n",
    "    #     continue\n",
    "    ans = list_cases(aword)\n",
    "    print(ans)\n",
    "    for word in ans:\n",
    "        meanings = query_meanings_for_word(word)\n",
    "        temp_flag = 0\n",
    "        if meanings:\n",
    "            present += 1\n",
    "            temp_flag = 1\n",
    "            temp_word = word\n",
    "            print(f\"FOUND Meaning for {ans} in '{word}': \", meanings)\n",
    "            continue \n",
    "        else:\n",
    "            a = 1\n",
    "            # temp-flag = 0\n",
    "            # absent += 1\n",
    "            # print(f\"No meanings found for '{word}'.\")\n",
    "    if temp_flag:\n",
    "        print(\"Got temp_flag for : \", temp_word)\n",
    "        present += 1\n",
    "    else:\n",
    "        absent += 1\n",
    "print(f\"TOTAL PRESENT {present} AND ABSENT ARE {absent}\")\n"
   ]
  },
  {
   "cell_type": "code",
   "execution_count": 1,
   "metadata": {},
   "outputs": [
    {
     "name": "stdout",
     "output_type": "stream",
     "text": [
      "('ఆగ్రహము', 'ఆగ్రహం')\n"
     ]
    }
   ],
   "source": [
    "from post_process import list_cases\n",
    "word = 'ఆగ్రహం'\n",
    "ans = list_cases(word)\n",
    "print(ans)"
   ]
  },
  {
   "cell_type": "code",
   "execution_count": null,
   "metadata": {},
   "outputs": [],
   "source": []
  }
 ],
 "metadata": {
  "kernelspec": {
   "display_name": "api",
   "language": "python",
   "name": "python3"
  },
  "language_info": {
   "codemirror_mode": {
    "name": "ipython",
    "version": 3
   },
   "file_extension": ".py",
   "mimetype": "text/x-python",
   "name": "python",
   "nbconvert_exporter": "python",
   "pygments_lexer": "ipython3",
   "version": "3.11.5"
  },
  "orig_nbformat": 4
 },
 "nbformat": 4,
 "nbformat_minor": 2
}
