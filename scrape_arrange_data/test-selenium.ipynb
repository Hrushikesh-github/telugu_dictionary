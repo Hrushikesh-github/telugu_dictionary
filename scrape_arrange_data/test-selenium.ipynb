{
 "cells": [
  {
   "cell_type": "code",
   "execution_count": 54,
   "metadata": {},
   "outputs": [
    {
     "name": "stdout",
     "output_type": "stream",
     "text": [
      "HTML Content of <div> Element:\n",
      "<dl class=\"MeaningEC\"><dt><span class=\"dict\">పదము : శబ్దరత్నాకరము (బహుజనపల్లి సీతారామాచార్యులు) 1912</span>&nbsp;&nbsp;&nbsp;&nbsp;<img alt=\"Report error(s)\" title=\"Report error(s)\" src=\"img/error.jpg\" border=\"0\" onclick=\"RptError(this,&quot;పదము&quot;,2)\">&nbsp;&nbsp;&nbsp;&nbsp;<a href=\"SR_Abbr_Works_Authors.html\" title=\"Abbreviations for the Works and Authors used in the SabdaratnAkaramu\" target=\"_blank\">గ్రంథసంకేతాది వివేచన పట్టిక</a></dt><dd><span class=\"cf\"><span class=\"abnsw_abbr\">సం.<span class=\"abnsw_abbrtip\"><span class=\"abnsw_expl\">సంస్కృత సమము</span></span></span>&nbsp;<span class=\"abnsw_abbr\">వి.<span class=\"abnsw_abbrtip\"><span class=\"abnsw_expl\">విశేష్యము</span></span></span>&nbsp;<span class=\"abnsw_abbr\">అ.<span class=\"abnsw_abbrtip\"><span class=\"abnsw_expl\">అకారాంతము</span></span></span>&nbsp;<span class=\"abnsw_abbr\">న.<span class=\"abnsw_abbrtip\"><span class=\"abnsw_expl\">నపుంసకలింగము</span></span></span>&nbsp;</span><br><ul><li>1. పాదము;</li><li>2. పద్యపాదము;</li><li>3. ఇసుక లోనగుచోట్లఁ గనఁబడెడు పాదచిహ్నము.</li><li>4. చిహ్నము;</li><li>5. శబ్దము;</li><li>6. వాక్యము;</li><li>7. ప్రయత్నము;</li><li>8. స్థానము;</li><li>9. కపటము;</li><li>10. వస్తువు.</li></ul><span class=\"cf\"><span class=\"abnsw_abbr\">పుం.<span class=\"abnsw_abbrtip\"><span class=\"abnsw_expl\">పుంలింగము</span></span></span>&nbsp;</span><br><ul><li>కిరణము.</li></ul></dd><dt><span class=\"dict\">పద, పదము : బ్రౌణ్య తెలుగు-ఇంగ్లీష్ నిఘంటువు 1903</span>&nbsp;&nbsp;&nbsp;&nbsp;<img alt=\"Report error(s)\" title=\"Report error(s)\" src=\"img/error.jpg\" border=\"0\" onclick=\"RptError(this,&quot;పదము&quot;,1)\"></dt><dd><div class=\"co\"><i>pada</i></div><span class=\"cf\">[Tel. for పోవుదము.] (plu. పదండి or పదడు)</span><br><span class=\"cf\">interj.</span><br><ul><li>Go or come thou.<div class=\"q1\">పదరా or పదవే go along, or come along.</div><div class=\"q2\">పోదముపద come, let us go.</div><div class=\"q1\">పదపద (plu. పదపదడు) go, go along; come, come!</div><div class=\"q2\">\"ఇచ్చోట, పనిమనకేమింక పదపదడనుచు.\" Sāranga. D. iv.377.</div></li></ul></dd><dt><span class=\"dict\">పదము : బ్రౌణ్య తెలుగు-ఇంగ్లీష్ నిఘంటువు 1903</span>&nbsp;&nbsp;&nbsp;&nbsp;<img alt=\"Report error(s)\" title=\"Report error(s)\" src=\"img/error.jpg\" border=\"0\" onclick=\"RptError(this,&quot;పదము&quot;,1)\"></dt><dd><div class=\"co\"><i>padamu</i></div><span class=\"cf\">[Skt.] n.</span><br><ul><li>1. A foot. పాదము. అడుగు.</li><li>2. A footstep, the mark of a foot, పాదచిహ్నము.</li><li>3. A word or a phrase, శబ్దము.</li><li>4. An article, thing, వస్తువు.</li><li>5. Preservation, defence, రక్షణము.</li><li>6. A place, site, స్థానము.</li><li>7. Rank, station, degree. ఉద్యోగము.</li><li>8. An attempt, ప్రయత్నము.</li><li>9. Cunning, కపటము.</li><li>10. A line of a stanza or song, పద్యపాదము.<div class=\"q1\">పదభ్రష్టుడు he who is degraded.</div><div class=\"q2\">\"మనసి జరథపదాంజనకణికలు.\" A. v.124. (టీ. రథపద, బండికండ్లయొక్క.)</div></li></ul></dd><dt><span class=\"dict\">పదము : శంకరనారాయణ తెలుగు-ఇంగ్లీష్ నిఘంటువు 1953</span>&nbsp;&nbsp;&nbsp;&nbsp;<img alt=\"Report error(s)\" title=\"Report error(s)\" src=\"img/error.jpg\" border=\"0\" onclick=\"RptError(this,&quot;పదము&quot;,11)\"></dt><dd><span class=\"cf\"><span class=\"abnsw_abbr\">n.<span class=\"abnsw_abbrtip\"><span class=\"abnsw_expl\">noun.</span></span></span>&nbsp;</span><br><ul><li>1. the foot;</li><li>2. a footstep, the mark of a foot;</li><li>3. a line of a stanza;</li><li>4. a word: a song: place, rank, station, position;</li><li>5. separating the component words of a Vedic text.</li></ul></dd><dt><span class=\"dict\">పదము : తెలుగు నిఘంటువు తెలుగు-తెలుగు (జి.ఎన్.రెడ్డి-ఆం.ప్ర.సా.అ.) 1979</span>&nbsp;&nbsp;&nbsp;&nbsp;<img alt=\"Report error(s)\" title=\"Report error(s)\" src=\"img/error.jpg\" border=\"0\" onclick=\"RptError(this,&quot;పదము&quot;,13)\"></dt><dd><span class=\"cf\">సంస్కృత విశేష్యము</span><br><ul><li>1. కాలు.</li><li>2. పద్యమందలి నాల్గవ చరణము.</li><li>3. చిహ్నము.</li><li>4. స్థానము.</li><li>5. శబ్దము.</li><li>6. <span class=\"cf\">[గణితశాస్త్రము]</span> ఒక సమాసములోగాని సమీకరణములోగాని ఉండు నొక రాశి (Term) - ax<sup>2</sup>+bx+c=o ఇందు మూడు పదము లున్నవి.</li><li>7. <span class=\"cf\">[గణితశాస్త్రము]</span> ఒక లెక్క చేయుటలో కనబరిచిన క్రమము (Step).</li></ul></dd><dt><span class=\"dict\">పాదము : తెలుగు పర్యాయపద నిఘంటువు (జి.యన్.రెడ్డి) 1990</span>&nbsp;&nbsp;&nbsp;&nbsp;<img alt=\"Report error(s)\" title=\"Report error(s)\" src=\"img/error.jpg\" border=\"0\" onclick=\"RptError(this,&quot;పదము&quot;,14)\"></dt><dd><ul><li>అంఘ్రి, అంజ, అజ్జ, అడుగు, అధమాంగము, కడకాలు, కాలు, గుత్తిక, చరణము, <b>పదము</b>, పావర, మెట్ట, హజ్జ.</li></ul></dd><dt><span class=\"dict\">మోసము : తెలుగు పర్యాయపద నిఘంటువు (జి.యన్.రెడ్డి) 1990</span>&nbsp;&nbsp;&nbsp;&nbsp;<img alt=\"Report error(s)\" title=\"Report error(s)\" src=\"img/error.jpg\" border=\"0\" onclick=\"RptError(this,&quot;పదము&quot;,14)\"></dt><dd><ul><li>అటమటము, అతిసంధానము, అనార్జవము, అభిసంధి, అఱ, అఱగొఱ, ఆగడము, ఉక్కివము, ఉపధి, ఉపాధి, కపటము, కల్కము, కల్లతనము, కవుడు, కాకరూపకము, కికురింత, కి(కు)(క్కు)రు, కుదుకనగోలు, కుదుప, కు(వా)(వ్వా)ళము, కూటము, కేనము, కైలాటకము, కైలాటము, కోడిగము, కౌటిల్యము, కౌడు, క్రుక్కు, గచ్చు, గజనిమీలనము, గబుసు, గబ్బి, గాయకము, గుట్టు, గోలుమాలు, గౌరు, చిట్టకము, ఛద్మము, జజ్జర, జాజర, జాలకము, జాలము, జిత్తు, జిడుగు, జూటుదనము, టక(టం)(టొం)కు, టక్కరితనము, టక్కు, టక్కుబాజీతనము, టాటోటు, ఠవళి, డంబకము, డంబము, డంబు, తంట, తక్కిడి, తక్కిడితనము, తక్కు, తచ్చ, తచ్చన, తట(మ)(వ)ట, తాలు, తాటోటు, తాలుకతనము, తెక్కలి, దందన, దంభనము, దంభము, దగా, దల్బము, దుత్తూరము, ద్వైధ్యము, ధౌర్తిక, ధౌర్త్యము, నక్కజిత్తులు(ని.బ.), నాలి, నికారము, నికృతి, నిమీల, నిహ్నవము, నేమము, <b>పదము</b>, పార్శ్వము, పితలాటకము, పితలాటము, పితూరి, పొచ్చెము, పొర, పొరపొచ్చెము, పొలసు, పోక, ప్రతారణ, ప్రతారము, ప్రతిభాసము, ప్రలంభనము, ప్రలంభము, బచ్చెన, బవంతము, బూటకము, బూమె, బెల్లింపు, బేడిజము, బేలు, బేలుతనము, భేషజము, మటుమాయము, మతకము, మాయ, మొఱగు, మొఱగుడు, లూలామాలము, వంచన, వలుము, వాలకతనము, విడంబన, విడంబనము, విప్రలంభనము, వెడ్డు, వేడబము, వైశికము, వైసిక, వ్యపదేశము, వ్యాకూతి, వ్యాజము, శాఠ్యము, సట, సటపట, సటము, సత్త్రము, సూక్ష్మము, సూచనము, స్ఖలితము, స్ఖాలిత్యము, హుర్చనము, హేతువాదము.</li></ul></dd><dt><span class=\"dict\">వస్తువు : తెలుగు పర్యాయపద నిఘంటువు (జి.యన్.రెడ్డి) 1990</span>&nbsp;&nbsp;&nbsp;&nbsp;<img alt=\"Report error(s)\" title=\"Report error(s)\" src=\"img/error.jpg\" border=\"0\" onclick=\"RptError(this,&quot;పదము&quot;,14)\"></dt><dd><ul><li>ఉరువు, క్రయ్యము, క్రేయము, దిను(సు)(స్సు), <b>పదము</b>, పదార్థము, ప్రతి.</li></ul></dd><dt><span class=\"dict\">వాక్యము : తెలుగు పర్యాయపద నిఘంటువు (జి.యన్.రెడ్డి) 1990</span>&nbsp;&nbsp;&nbsp;&nbsp;<img alt=\"Report error(s)\" title=\"Report error(s)\" src=\"img/error.jpg\" border=\"0\" onclick=\"RptError(this,&quot;పదము&quot;,14)\"></dt><dd><ul><li>నుడి, <b>పదము</b>, పలుకుబడి, ప్రగృహ్యము, బాణము, వివరణము.</li></ul></dd><dt><span class=\"dict\">పదము : తెలుగు పర్యాయపద నిఘంటువు (జి.యన్.రెడ్డి) 1990</span>&nbsp;&nbsp;&nbsp;&nbsp;<img alt=\"Report error(s)\" title=\"Report error(s)\" src=\"img/error.jpg\" border=\"0\" onclick=\"RptError(this,&quot;పదము&quot;,14)\"></dt><dd><ul><li>మాట, వహము.</li></ul></dd><dt><span class=\"dict\">పాట : తెలుగు పర్యాయపద నిఘంటువు (జి.యన్.రెడ్డి) 1990</span>&nbsp;&nbsp;&nbsp;&nbsp;<img alt=\"Report error(s)\" title=\"Report error(s)\" src=\"img/error.jpg\" border=\"0\" onclick=\"RptError(this,&quot;పదము&quot;,14)\"></dt><dd><ul><li>కీర్తనము, గాథ, గానము, గాయనము, గాయము, గీతము, గీతి, గేయము, <b>పదము</b>, పల్లాండు, ప్రగీతము.</li></ul></dd><dt><span class=\"dict\">పదము : పురుషోత్తమ కవీయము అను శబ్దరూపప్రబోధకనిఘంటుత్రితయము (నాదెళ్ల పురుషోత్తమ కవి) 1918</span>&nbsp;&nbsp;&nbsp;&nbsp;<img alt=\"Report error(s)\" title=\"Report error(s)\" src=\"img/error.jpg\" border=\"0\" onclick=\"RptError(this,&quot;పదము&quot;,52)\"></dt><dd><span class=\"cf\">అన్యరూపదీపిక:</span><br><ul><li>శబ్దము: <b>పదము</b><br>రూపాంతరము: పాదము<br>టీకా: చరణము</li><li>శబ్దము: పాదము<br>రూపాంతరము: <b>పదము</b><br>టీకా: చరణము</li></ul></dd></dl>\n",
      "\n",
      "\n",
      "HTML Content of <div> Element:\n",
      "<dl class=\"MeaningEC\"><dt><span class=\"dict\">పదము : శబ్దార్థ చింతామణి తెలుగు-ఉర్దూ (తాటికొండ తిమ్మారెడ్డిదేశాయి) 1906</span>&nbsp;&nbsp;&nbsp;&nbsp;<img alt=\"Report error(s)\" title=\"Report error(s)\" src=\"img/error.jpg\" border=\"0\" onclick=\"RptError(this,&quot;పదము&quot;,44)\"></dt><dd><ul><li>1 .[తె.] పాదము -[ఉ.] కదమ్</li><li>2 .[తె.] శబ్దము -[ఉ.] లఫ్ౙ్</li><li>3 .[తె.] స్థానము -[ఉ.] జగహ్</li><li>4 .[తె.] కపటము -[ఉ.] కీనా</li></ul></dd></dl>\n",
      "\n",
      "\n"
     ]
    }
   ],
   "source": [
    "from selenium import webdriver\n",
    "from selenium.webdriver.common.by import By\n",
    "\n",
    "# Create a WebDriver instance (e.g., Chrome)\n",
    "driver = webdriver.Chrome()\n",
    "driver.get(\"https://andhrabharati.com/dictionary/\")\n",
    "\n",
    "# Locate the text box and button\n",
    "text_box = driver.find_element(By.NAME, \"strSearch\")\n",
    "button_element = driver.find_element(By.ID, \"button2\")\n",
    "\n",
    "# Enter the search word and click the button\n",
    "text_box.send_keys(\"పదము\")\n",
    "button_element.click()\n",
    "\n",
    "import time\n",
    "time.sleep(2)\n",
    "# Locate all <div> elements with class \"wmsect\"\n",
    "div_elements = driver.find_elements(By.CLASS_NAME, \"MeaningEC\")\n",
    "\n",
    "abc = []\n",
    "# Iterate over each <div> element and print its HTML content\n",
    "for div_element in div_elements:\n",
    "    print(\"HTML Content of <div> Element:\")\n",
    "    print(div_element.get_attribute(\"outerHTML\"))\n",
    "    abc.append(div_element.get_attribute(\"outerHTML\"))\n",
    "    print(\"\\n\")\n",
    "\n",
    "# # Close the browser\n",
    "# driver.quit()\n"
   ]
  },
  {
   "cell_type": "code",
   "execution_count": 49,
   "metadata": {},
   "outputs": [
    {
     "data": {
      "text/plain": [
       "2"
      ]
     },
     "execution_count": 49,
     "metadata": {},
     "output_type": "execute_result"
    }
   ],
   "source": [
    "len(abc)"
   ]
  },
  {
   "cell_type": "code",
   "execution_count": 50,
   "metadata": {},
   "outputs": [
    {
     "name": "stdout",
     "output_type": "stream",
     "text": [
      "Dictionary Name: పదము : శబ్దరత్నాకరము (బహుజనపల్లి సీతారామాచార్యులు) 1912\n",
      "Dictionary Name: పద, పదము : బ్రౌణ్య తెలుగు-ఇంగ్లీష్ నిఘంటువు 1903\n",
      "Dictionary Name: పదము : బ్రౌణ్య తెలుగు-ఇంగ్లీష్ నిఘంటువు 1903\n",
      "Dictionary Name: పదము : శంకరనారాయణ తెలుగు-ఇంగ్లీష్ నిఘంటువు 1953\n",
      "Dictionary Name: పదము : తెలుగు నిఘంటువు తెలుగు-తెలుగు (జి.ఎన్.రెడ్డి-ఆం.ప్ర.సా.అ.) 1979\n",
      "Dictionary Name: పాదము : తెలుగు పర్యాయపద నిఘంటువు (జి.యన్.రెడ్డి) 1990\n",
      "Dictionary Name: మోసము : తెలుగు పర్యాయపద నిఘంటువు (జి.యన్.రెడ్డి) 1990\n",
      "Dictionary Name: వస్తువు : తెలుగు పర్యాయపద నిఘంటువు (జి.యన్.రెడ్డి) 1990\n",
      "Dictionary Name: వాక్యము : తెలుగు పర్యాయపద నిఘంటువు (జి.యన్.రెడ్డి) 1990\n",
      "Dictionary Name: పదము : తెలుగు పర్యాయపద నిఘంటువు (జి.యన్.రెడ్డి) 1990\n",
      "Dictionary Name: పాట : తెలుగు పర్యాయపద నిఘంటువు (జి.యన్.రెడ్డి) 1990\n",
      "Dictionary Name: పదము : పురుషోత్తమ కవీయము అను శబ్దరూపప్రబోధకనిఘంటుత్రితయము (నాదెళ్ల పురుషోత్తమ కవి) 1918\n",
      "Meaning: సం.సంస్కృత సమము వి.విశేష్యము అ.అకారాంతము న.నపుంసకలింగము 1. పాదము;2. పద్యపాదము;3. ఇసుక లోనగుచోట్లఁ గనఁబడెడు పాదచిహ్నము.4. చిహ్నము;5. శబ్దము;6. వాక్యము;7. ప్రయత్నము;8. స్థానము;9. కపటము;10. వస్తువు.పుం.పుంలింగము కిరణము.\n",
      "Meaning: pada[Tel. for పోవుదము.] (plu. పదండి or పదడు)interj.Go or come thou.పదరా or పదవే go along, or come along.పోదముపద come, let us go.పదపద (plu. పదపదడు) go, go along; come, come!\"ఇచ్చోట, పనిమనకేమింక పదపదడనుచు.\" Sāranga. D. iv.377.\n",
      "Meaning: padamu[Skt.] n.1. A foot. పాదము. అడుగు.2. A footstep, the mark of a foot, పాదచిహ్నము.3. A word or a phrase, శబ్దము.4. An article, thing, వస్తువు.5. Preservation, defence, రక్షణము.6. A place, site, స్థానము.7. Rank, station, degree. ఉద్యోగము.8. An attempt, ప్రయత్నము.9. Cunning, కపటము.10. A line of a stanza or song, పద్యపాదము.పదభ్రష్టుడు he who is degraded.\"మనసి జరథపదాంజనకణికలు.\" A. v.124. (టీ. రథపద, బండికండ్లయొక్క.)\n",
      "Meaning: n.noun. 1. the foot;2. a footstep, the mark of a foot;3. a line of a stanza;4. a word: a song: place, rank, station, position;5. separating the component words of a Vedic text.\n",
      "Meaning: సంస్కృత విశేష్యము1. కాలు.2. పద్యమందలి నాల్గవ చరణము.3. చిహ్నము.4. స్థానము.5. శబ్దము.6. [గణితశాస్త్రము] ఒక సమాసములోగాని సమీకరణములోగాని ఉండు నొక రాశి (Term) - ax2+bx+c=o ఇందు మూడు పదము లున్నవి.7. [గణితశాస్త్రము] ఒక లెక్క చేయుటలో కనబరిచిన క్రమము (Step).\n",
      "Meaning: అంఘ్రి, అంజ, అజ్జ, అడుగు, అధమాంగము, కడకాలు, కాలు, గుత్తిక, చరణము, పదము, పావర, మెట్ట, హజ్జ.\n",
      "Meaning: అటమటము, అతిసంధానము, అనార్జవము, అభిసంధి, అఱ, అఱగొఱ, ఆగడము, ఉక్కివము, ఉపధి, ఉపాధి, కపటము, కల్కము, కల్లతనము, కవుడు, కాకరూపకము, కికురింత, కి(కు)(క్కు)రు, కుదుకనగోలు, కుదుప, కు(వా)(వ్వా)ళము, కూటము, కేనము, కైలాటకము, కైలాటము, కోడిగము, కౌటిల్యము, కౌడు, క్రుక్కు, గచ్చు, గజనిమీలనము, గబుసు, గబ్బి, గాయకము, గుట్టు, గోలుమాలు, గౌరు, చిట్టకము, ఛద్మము, జజ్జర, జాజర, జాలకము, జాలము, జిత్తు, జిడుగు, జూటుదనము, టక(టం)(టొం)కు, టక్కరితనము, టక్కు, టక్కుబాజీతనము, టాటోటు, ఠవళి, డంబకము, డంబము, డంబు, తంట, తక్కిడి, తక్కిడితనము, తక్కు, తచ్చ, తచ్చన, తట(మ)(వ)ట, తాలు, తాటోటు, తాలుకతనము, తెక్కలి, దందన, దంభనము, దంభము, దగా, దల్బము, దుత్తూరము, ద్వైధ్యము, ధౌర్తిక, ధౌర్త్యము, నక్కజిత్తులు(ని.బ.), నాలి, నికారము, నికృతి, నిమీల, నిహ్నవము, నేమము, పదము, పార్శ్వము, పితలాటకము, పితలాటము, పితూరి, పొచ్చెము, పొర, పొరపొచ్చెము, పొలసు, పోక, ప్రతారణ, ప్రతారము, ప్రతిభాసము, ప్రలంభనము, ప్రలంభము, బచ్చెన, బవంతము, బూటకము, బూమె, బెల్లింపు, బేడిజము, బేలు, బేలుతనము, భేషజము, మటుమాయము, మతకము, మాయ, మొఱగు, మొఱగుడు, లూలామాలము, వంచన, వలుము, వాలకతనము, విడంబన, విడంబనము, విప్రలంభనము, వెడ్డు, వేడబము, వైశికము, వైసిక, వ్యపదేశము, వ్యాకూతి, వ్యాజము, శాఠ్యము, సట, సటపట, సటము, సత్త్రము, సూక్ష్మము, సూచనము, స్ఖలితము, స్ఖాలిత్యము, హుర్చనము, హేతువాదము.\n",
      "Meaning: ఉరువు, క్రయ్యము, క్రేయము, దిను(సు)(స్సు), పదము, పదార్థము, ప్రతి.\n",
      "Meaning: నుడి, పదము, పలుకుబడి, ప్రగృహ్యము, బాణము, వివరణము.\n",
      "Meaning: మాట, వహము.\n",
      "Meaning: కీర్తనము, గాథ, గానము, గాయనము, గాయము, గీతము, గీతి, గేయము, పదము, పల్లాండు, ప్రగీతము.\n",
      "Meaning: అన్యరూపదీపిక:శబ్దము: పదమురూపాంతరము: పాదముటీకా: చరణముశబ్దము: పాదమురూపాంతరము: పదముటీకా: చరణము\n"
     ]
    }
   ],
   "source": [
    "from bs4 import BeautifulSoup\n",
    "\n",
    "soup = BeautifulSoup(abc[0], 'html.parser')\n",
    "\n",
    "dict_name_elements = soup.find_all('span', class_='dict')\n",
    "\n",
    "# Iterate over the dictionary name elements and print their text\n",
    "for dict_name_element in dict_name_elements:\n",
    "    dict_name = dict_name_element.text\n",
    "    print(\"Dictionary Name:\", dict_name)\n",
    "\n",
    "# Find all <dd> elements (dictionary meanings)\n",
    "meaning_elements = soup.find_all('dd')\n",
    "\n",
    "# Iterate over the meaning elements and print their text\n",
    "for meaning_element in meaning_elements:\n",
    "    meaning = meaning_element.text.strip()\n",
    "    print(\"Meaning:\", meaning)\n"
   ]
  },
  {
   "cell_type": "code",
   "execution_count": 51,
   "metadata": {},
   "outputs": [
    {
     "name": "stdout",
     "output_type": "stream",
     "text": [
      "Dictionary Name: పదము : శబ్దరత్నాకరము (బహుజనపల్లి సీతారామాచార్యులు) 1912\n",
      "Meaning: సం.సంస్కృత సమము వి.విశేష్యము అ.అకారాంతము న.నపుంసకలింగము 1. పాదము;2. పద్యపాదము;3. ఇసుక లోనగుచోట్లఁ గనఁబడెడు పాదచిహ్నము.4. చిహ్నము;5. శబ్దము;6. వాక్యము;7. ప్రయత్నము;8. స్థానము;9. కపటము;10. వస్తువు.పుం.పుంలింగము కిరణము.\n",
      "\n",
      "Dictionary Name: పదము : శబ్దార్థ చింతామణి తెలుగు-ఉర్దూ (తాటికొండ తిమ్మారెడ్డిదేశాయి) 1906\n",
      "Meaning: 1 .[తె.] పాదము -[ఉ.] కదమ్2 .[తె.] శబ్దము -[ఉ.] లఫ్ౙ్3 .[తె.] స్థానము -[ఉ.] జగహ్4 .[తె.] కపటము -[ఉ.] కీనా\n",
      "\n"
     ]
    }
   ],
   "source": [
    "\n",
    "# Iterate over the HTML content\n",
    "for html_content in abc:\n",
    "    # Parse the HTML content\n",
    "    soup = BeautifulSoup(html_content, 'html.parser')\n",
    "\n",
    "    # Find the dictionary name element\n",
    "    dict_name_element = soup.find('span', class_='dict')\n",
    "    \n",
    "    # Check if the dictionary name is \"తెలుగు పర్యాయపద నిఘంటువు\" and skip if true\n",
    "    if dict_name_element and dict_name_element.text.strip() == \"తెలుగు పర్యాయపద నిఘంటువు\":\n",
    "        print(f'CONTINUNING FOR THIS DICTIONARY {dict_name_element.text}')\n",
    "\n",
    "    # Find the dictionary meaning element\n",
    "    meaning_element = soup.find('dd')\n",
    "    \n",
    "    # Print the dictionary name and meaning\n",
    "    if dict_name_element and meaning_element:\n",
    "        dict_name = dict_name_element.text\n",
    "        meaning = meaning_element.text.strip()\n",
    "        print(f\"Dictionary Name: {dict_name}\\nMeaning: {meaning}\\n\")\n"
   ]
  },
  {
   "cell_type": "code",
   "execution_count": 52,
   "metadata": {},
   "outputs": [
    {
     "name": "stdout",
     "output_type": "stream",
     "text": [
      "Dictionary Name: పదము : శబ్దరత్నాకరము (బహుజనపల్లి సీతారామాచార్యులు) 1912\n",
      "Meaning: సం.సంస్కృత సమము వి.విశేష్యము అ.అకారాంతము న.నపుంసకలింగము 1. పాదము;2. పద్యపాదము;3. ఇసుక లోనగుచోట్లఁ గనఁబడెడు పాదచిహ్నము.4. చిహ్నము;5. శబ్దము;6. వాక్యము;7. ప్రయత్నము;8. స్థానము;9. కపటము;10. వస్తువు.పుం.పుంలింగము కిరణము.\n",
      "\n",
      "Dictionary Name: పదము : శబ్దార్థ చింతామణి తెలుగు-ఉర్దూ (తాటికొండ తిమ్మారెడ్డిదేశాయి) 1906\n",
      "Meaning: 1 .[తె.] పాదము -[ఉ.] కదమ్2 .[తె.] శబ్దము -[ఉ.] లఫ్ౙ్3 .[తె.] స్థానము -[ఉ.] జగహ్4 .[తె.] కపటము -[ఉ.] కీనా\n",
      "\n"
     ]
    }
   ],
   "source": [
    "from bs4 import BeautifulSoup\n",
    "\n",
    "# Iterate over the HTML content\n",
    "for html_content in abc:\n",
    "    # Parse the HTML content\n",
    "    soup = BeautifulSoup(html_content, 'html.parser')\n",
    "\n",
    "    # Find the dictionary name element\n",
    "    dict_name_element = soup.find('span', class_='dict')\n",
    "    \n",
    "    # Check if the dictionary name is \"తెలుగు పర్యాయపద నిఘంటువు\" and skip if true\n",
    "    if dict_name_element and dict_name_element.text.strip() == \"తెలుగు పర్యాయపద నిఘంటువు\":\n",
    "        continue\n",
    "\n",
    "    # Find the dictionary meaning element\n",
    "    meaning_element = soup.find('dd')\n",
    "    \n",
    "    # Print the dictionary name and meaning\n",
    "    if dict_name_element and meaning_element:\n",
    "        dict_name = dict_name_element.text\n",
    "        meaning = meaning_element.text.strip()\n",
    "        print(f\"Dictionary Name: {dict_name}\\nMeaning: {meaning}\\n\")\n"
   ]
  },
  {
   "cell_type": "code",
   "execution_count": 53,
   "metadata": {},
   "outputs": [
    {
     "ename": "TypeError",
     "evalue": "expected string or bytes-like object, got 'list'",
     "output_type": "error",
     "traceback": [
      "\u001b[0;31m---------------------------------------------------------------------------\u001b[0m",
      "\u001b[0;31mTypeError\u001b[0m                                 Traceback (most recent call last)",
      "\u001b[1;32m/Users/hrushikeshkyathari/sri/andhrabharthi/test-selenium.ipynb Cell 6\u001b[0m line \u001b[0;36m5\n\u001b[1;32m      <a href='vscode-notebook-cell:/Users/hrushikeshkyathari/sri/andhrabharthi/test-selenium.ipynb#X14sZmlsZQ%3D%3D?line=1'>2</a>\u001b[0m html_content \u001b[39m=\u001b[39m abc  \u001b[39m# Replace abc with your actual HTML content\u001b[39;00m\n\u001b[1;32m      <a href='vscode-notebook-cell:/Users/hrushikeshkyathari/sri/andhrabharthi/test-selenium.ipynb#X14sZmlsZQ%3D%3D?line=3'>4</a>\u001b[0m \u001b[39m# Parse the HTML content with BeautifulSoup\u001b[39;00m\n\u001b[0;32m----> <a href='vscode-notebook-cell:/Users/hrushikeshkyathari/sri/andhrabharthi/test-selenium.ipynb#X14sZmlsZQ%3D%3D?line=4'>5</a>\u001b[0m soup \u001b[39m=\u001b[39m BeautifulSoup(html_content, \u001b[39m'\u001b[39;49m\u001b[39mhtml.parser\u001b[39;49m\u001b[39m'\u001b[39;49m)\n\u001b[1;32m      <a href='vscode-notebook-cell:/Users/hrushikeshkyathari/sri/andhrabharthi/test-selenium.ipynb#X14sZmlsZQ%3D%3D?line=6'>7</a>\u001b[0m \u001b[39m# Find all <dl> elements with class \"MeaningEC\" (each represents a dictionary entry)\u001b[39;00m\n\u001b[1;32m      <a href='vscode-notebook-cell:/Users/hrushikeshkyathari/sri/andhrabharthi/test-selenium.ipynb#X14sZmlsZQ%3D%3D?line=7'>8</a>\u001b[0m dictionary_entries \u001b[39m=\u001b[39m soup\u001b[39m.\u001b[39mfind_all(\u001b[39m'\u001b[39m\u001b[39mdl\u001b[39m\u001b[39m'\u001b[39m, class_\u001b[39m=\u001b[39m\u001b[39m'\u001b[39m\u001b[39mMeaningEC\u001b[39m\u001b[39m'\u001b[39m)\n",
      "File \u001b[0;32m~/envs/api/lib/python3.11/site-packages/bs4/__init__.py:328\u001b[0m, in \u001b[0;36mBeautifulSoup.__init__\u001b[0;34m(self, markup, features, builder, parse_only, from_encoding, exclude_encodings, element_classes, **kwargs)\u001b[0m\n\u001b[1;32m    326\u001b[0m rejections \u001b[39m=\u001b[39m []\n\u001b[1;32m    327\u001b[0m success \u001b[39m=\u001b[39m \u001b[39mFalse\u001b[39;00m\n\u001b[0;32m--> 328\u001b[0m \u001b[39mfor\u001b[39;00m (\u001b[39mself\u001b[39m\u001b[39m.\u001b[39mmarkup, \u001b[39mself\u001b[39m\u001b[39m.\u001b[39moriginal_encoding, \u001b[39mself\u001b[39m\u001b[39m.\u001b[39mdeclared_html_encoding,\n\u001b[1;32m    329\u001b[0m  \u001b[39mself\u001b[39m\u001b[39m.\u001b[39mcontains_replacement_characters) \u001b[39min\u001b[39;00m (\n\u001b[1;32m    330\u001b[0m      \u001b[39mself\u001b[39m\u001b[39m.\u001b[39mbuilder\u001b[39m.\u001b[39mprepare_markup(\n\u001b[1;32m    331\u001b[0m          markup, from_encoding, exclude_encodings\u001b[39m=\u001b[39mexclude_encodings)):\n\u001b[1;32m    332\u001b[0m     \u001b[39mself\u001b[39m\u001b[39m.\u001b[39mreset()\n\u001b[1;32m    333\u001b[0m     \u001b[39mself\u001b[39m\u001b[39m.\u001b[39mbuilder\u001b[39m.\u001b[39minitialize_soup(\u001b[39mself\u001b[39m)\n",
      "File \u001b[0;32m~/envs/api/lib/python3.11/site-packages/bs4/builder/_htmlparser.py:361\u001b[0m, in \u001b[0;36mHTMLParserTreeBuilder.prepare_markup\u001b[0;34m(self, markup, user_specified_encoding, document_declared_encoding, exclude_encodings)\u001b[0m\n\u001b[1;32m    358\u001b[0m user_encodings \u001b[39m=\u001b[39m [document_declared_encoding]\n\u001b[1;32m    360\u001b[0m try_encodings \u001b[39m=\u001b[39m [user_specified_encoding, document_declared_encoding]\n\u001b[0;32m--> 361\u001b[0m dammit \u001b[39m=\u001b[39m UnicodeDammit(\n\u001b[1;32m    362\u001b[0m     markup,\n\u001b[1;32m    363\u001b[0m     known_definite_encodings\u001b[39m=\u001b[39;49mknown_definite_encodings,\n\u001b[1;32m    364\u001b[0m     user_encodings\u001b[39m=\u001b[39;49muser_encodings,\n\u001b[1;32m    365\u001b[0m     is_html\u001b[39m=\u001b[39;49m\u001b[39mTrue\u001b[39;49;00m,\n\u001b[1;32m    366\u001b[0m     exclude_encodings\u001b[39m=\u001b[39;49mexclude_encodings\n\u001b[1;32m    367\u001b[0m )\n\u001b[1;32m    368\u001b[0m \u001b[39myield\u001b[39;00m (dammit\u001b[39m.\u001b[39mmarkup, dammit\u001b[39m.\u001b[39moriginal_encoding,\n\u001b[1;32m    369\u001b[0m        dammit\u001b[39m.\u001b[39mdeclared_html_encoding,\n\u001b[1;32m    370\u001b[0m        dammit\u001b[39m.\u001b[39mcontains_replacement_characters)\n",
      "File \u001b[0;32m~/envs/api/lib/python3.11/site-packages/bs4/dammit.py:601\u001b[0m, in \u001b[0;36mUnicodeDammit.__init__\u001b[0;34m(self, markup, known_definite_encodings, smart_quotes_to, is_html, exclude_encodings, user_encodings, override_encodings)\u001b[0m\n\u001b[1;32m    598\u001b[0m \u001b[39mself\u001b[39m\u001b[39m.\u001b[39mmarkup \u001b[39m=\u001b[39m \u001b[39mself\u001b[39m\u001b[39m.\u001b[39mdetector\u001b[39m.\u001b[39mmarkup\n\u001b[1;32m    600\u001b[0m u \u001b[39m=\u001b[39m \u001b[39mNone\u001b[39;00m\n\u001b[0;32m--> 601\u001b[0m \u001b[39mfor\u001b[39;00m encoding \u001b[39min\u001b[39;00m \u001b[39mself\u001b[39m\u001b[39m.\u001b[39mdetector\u001b[39m.\u001b[39mencodings:\n\u001b[1;32m    602\u001b[0m     markup \u001b[39m=\u001b[39m \u001b[39mself\u001b[39m\u001b[39m.\u001b[39mdetector\u001b[39m.\u001b[39mmarkup\n\u001b[1;32m    603\u001b[0m     u \u001b[39m=\u001b[39m \u001b[39mself\u001b[39m\u001b[39m.\u001b[39m_convert_from(encoding)\n",
      "File \u001b[0;32m~/envs/api/lib/python3.11/site-packages/bs4/dammit.py:434\u001b[0m, in \u001b[0;36mEncodingDetector.encodings\u001b[0;34m(self)\u001b[0m\n\u001b[1;32m    431\u001b[0m \u001b[39m# Look within the document for an XML or HTML encoding\u001b[39;00m\n\u001b[1;32m    432\u001b[0m \u001b[39m# declaration.\u001b[39;00m\n\u001b[1;32m    433\u001b[0m \u001b[39mif\u001b[39;00m \u001b[39mself\u001b[39m\u001b[39m.\u001b[39mdeclared_encoding \u001b[39mis\u001b[39;00m \u001b[39mNone\u001b[39;00m:\n\u001b[0;32m--> 434\u001b[0m     \u001b[39mself\u001b[39m\u001b[39m.\u001b[39mdeclared_encoding \u001b[39m=\u001b[39m \u001b[39mself\u001b[39;49m\u001b[39m.\u001b[39;49mfind_declared_encoding(\n\u001b[1;32m    435\u001b[0m         \u001b[39mself\u001b[39;49m\u001b[39m.\u001b[39;49mmarkup, \u001b[39mself\u001b[39;49m\u001b[39m.\u001b[39;49mis_html)\n\u001b[1;32m    436\u001b[0m \u001b[39mif\u001b[39;00m \u001b[39mself\u001b[39m\u001b[39m.\u001b[39m_usable(\u001b[39mself\u001b[39m\u001b[39m.\u001b[39mdeclared_encoding, tried):\n\u001b[1;32m    437\u001b[0m     \u001b[39myield\u001b[39;00m \u001b[39mself\u001b[39m\u001b[39m.\u001b[39mdeclared_encoding\n",
      "File \u001b[0;32m~/envs/api/lib/python3.11/site-packages/bs4/dammit.py:511\u001b[0m, in \u001b[0;36mEncodingDetector.find_declared_encoding\u001b[0;34m(cls, markup, is_html, search_entire_document)\u001b[0m\n\u001b[1;32m    509\u001b[0m html_re \u001b[39m=\u001b[39m res[\u001b[39m'\u001b[39m\u001b[39mhtml\u001b[39m\u001b[39m'\u001b[39m]\n\u001b[1;32m    510\u001b[0m declared_encoding \u001b[39m=\u001b[39m \u001b[39mNone\u001b[39;00m\n\u001b[0;32m--> 511\u001b[0m declared_encoding_match \u001b[39m=\u001b[39m xml_re\u001b[39m.\u001b[39;49msearch(markup, endpos\u001b[39m=\u001b[39;49mxml_endpos)\n\u001b[1;32m    512\u001b[0m \u001b[39mif\u001b[39;00m \u001b[39mnot\u001b[39;00m declared_encoding_match \u001b[39mand\u001b[39;00m is_html:\n\u001b[1;32m    513\u001b[0m     declared_encoding_match \u001b[39m=\u001b[39m html_re\u001b[39m.\u001b[39msearch(markup, endpos\u001b[39m=\u001b[39mhtml_endpos)\n",
      "\u001b[0;31mTypeError\u001b[0m: expected string or bytes-like object, got 'list'"
     ]
    }
   ],
   "source": []
  },
  {
   "cell_type": "code",
   "execution_count": null,
   "metadata": {},
   "outputs": [],
   "source": []
  }
 ],
 "metadata": {
  "kernelspec": {
   "display_name": "api",
   "language": "python",
   "name": "python3"
  },
  "language_info": {
   "codemirror_mode": {
    "name": "ipython",
    "version": 3
   },
   "file_extension": ".py",
   "mimetype": "text/x-python",
   "name": "python",
   "nbconvert_exporter": "python",
   "pygments_lexer": "ipython3",
   "version": "3.11.5"
  },
  "orig_nbformat": 4
 },
 "nbformat": 4,
 "nbformat_minor": 2
}
